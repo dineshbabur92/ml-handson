{
 "cells": [
  {
   "cell_type": "code",
   "execution_count": 45,
   "metadata": {
    "collapsed": false
   },
   "outputs": [
    {
     "name": "stdout",
     "output_type": "stream",
     "text": [
      "(25, 401) (10, 26)\n",
      "10025\n",
      "(10, 5000)\n"
     ]
    }
   ],
   "source": [
    "import os;\n",
    "\n",
    "import sys;\n",
    "sys.path.insert(0,os.getcwd() + '\\\\..\\\\lib');\n",
    "\n",
    "# print(\n",
    "\n",
    "#     os.getcwd() + '\\\\..\\\\lib'\n",
    "\n",
    "# );\n",
    "\n",
    "import numpy as np\n",
    "import scipy.io as spio;\n",
    "from random import randint;\n",
    "import matplotlib.pyplot as plot\n",
    "from Regression import LogisticRegression as LR\n",
    "# class NeuralNetwork:\n",
    "#     def __init__(self, X, y, hiddenLayers):\n",
    "#         self.X = X;\n",
    "#         self.y = y;\n",
    "#         self.m = X.shape[0];\n",
    "#         self.n = X.shape[1];\n",
    "#         self.hiddenLayers = hiddenLayers\n",
    "#         self.theta = NeuralNetwork.initiliazeTheta(hiddenLayers, n);\n",
    "#         return;\n",
    "    \n",
    "#     def initilizeTheta(hiddenLayers, n):\n",
    "#         for i in hiddenLayers:\n",
    "            \n",
    "\n",
    "            \n",
    "# print(\"Loading and visualizing data\");\n",
    "\n",
    "data1 = spio.loadmat(\"D:/Codes/machine learning coursera/ex4/ex4data1.mat\");\n",
    "X = data1[\"X\"];\n",
    "y = data1[\"y\"];\n",
    "\n",
    "# randNum = randint(0, X.shape[0]);\n",
    "\n",
    "# fname = 'image.png'\n",
    "# image = Image.open(fname).convert(\"L\")\n",
    "# arr = np.asarray(image)\n",
    "\n",
    "def displayImage(X):\n",
    "    plot.imshow(X, cmap='gray')\n",
    "    plot.show()\n",
    "\n",
    "# displayImage(np.reshape(X[0],(20,20)));\n",
    "\n",
    "data1 = spio.loadmat(\"D:/Codes/machine learning coursera/ex4/ex4weights.mat\");\n",
    "theta1 = data1[\"Theta1\"];\n",
    "theta2 = data1[\"Theta2\"];\n",
    "\n",
    "print(\n",
    "    theta1.shape,\n",
    "    theta2.shape\n",
    ");\n",
    "\n",
    "def costFunction(nn_params, n, hiddenLayerSize, yClasses, X, y, lam):\n",
    "    theta1Shape = (hiddenLayerSize, n+1);\n",
    "    theta2Shape = (yClasses, hiddenLayerSize + 1);\n",
    "    print(\n",
    "        (hiddenLayerSize * (n+1))\n",
    "    );\n",
    "    theta1 = np.reshape(nn_params[:(hiddenLayerSize * (n+1))], theta1Shape);\n",
    "    theta2 = np.reshape(nn_params[ hiddenLayerSize * (n+1): ], theta2Shape);\n",
    "    \n",
    "    a1 = np.transpose(LR.addIntercept(X));\n",
    "    z2 = np.dot(theta1, a1);\n",
    "    a2 = LR.sigmoid(z2);\n",
    "    a2 = np.transpose(LR.addIntercept(np.transpose(a2)));\n",
    "    z3 = np.dot(theta2, a2);\n",
    "    a3 = LR.sigmoid(z3);\n",
    "    \n",
    "    print(\n",
    "        a3.shape\n",
    "    );\n",
    "    \n",
    "    \n",
    "    \n",
    "    \n",
    "    \n",
    "nn_params = np.hstack([theta1.flatten(), theta2.flatten()])\n",
    "lam = 0;\n",
    "J = costFunction(nn_params, X.shape[1], 25, 10, X, y, lam);"
   ]
  },
  {
   "cell_type": "code",
   "execution_count": 12,
   "metadata": {
    "collapsed": false
   },
   "outputs": [
    {
     "name": "stdout",
     "output_type": "stream",
     "text": [
      "[[1 2]\n",
      " [3 4]]\n"
     ]
    }
   ],
   "source": [
    "test = np.matrix(\"1 2 3; 3 4 5\");\n",
    "print(test[:,:2])"
   ]
  }
 ],
 "metadata": {
  "kernelspec": {
   "display_name": "Python 3",
   "language": "python",
   "name": "python3"
  },
  "language_info": {
   "codemirror_mode": {
    "name": "ipython",
    "version": 3
   },
   "file_extension": ".py",
   "mimetype": "text/x-python",
   "name": "python",
   "nbconvert_exporter": "python",
   "pygments_lexer": "ipython3",
   "version": "3.6.0"
  }
 },
 "nbformat": 4,
 "nbformat_minor": 2
}
