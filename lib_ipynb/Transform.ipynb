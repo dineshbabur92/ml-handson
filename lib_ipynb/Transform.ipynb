{
 "cells": [
  {
   "cell_type": "code",
   "execution_count": 4,
   "metadata": {
    "collapsed": true
   },
   "outputs": [],
   "source": [
    "import pandas as pd;\n",
    "\n",
    "class GenTransform:\n",
    "    \n",
    "    def __init__(self):\n",
    "        return;\n",
    "    \n",
    "    @staticmethod\n",
    "    def generateBooleanColumns(df, columns):\n",
    "        for column in columns:\n",
    "                df[column] = -1 * df[column].isnull() + 1\n",
    "        return df;\n",
    "    \n",
    "    @staticmethod\n",
    "    def generateValueColumns(df, columns):\n",
    "        for column in columns:\n",
    "            df = pd.concat([df.drop(column, axis=1), df[column].str.get_dummies()], axis = 1);\n",
    "        return df;\n",
    "    \n",
    "    @staticmethod\n",
    "    def removeNonFeatures(df, columns):\n",
    "        for column in columns:\n",
    "            df = df.drop(column, axis = 1);\n",
    "        return df;\n",
    "    \n",
    "    @staticmethod\n",
    "    def fillNaWithMean(df):\n",
    "        return df.fillna(df.mean());\n",
    "    \n",
    "    @staticmethod\n",
    "    def dataTransform(df, listRowstoColumns, listRowsToBoolean, listNonFeatures):\n",
    "        df1 = GenTransform.generateBooleanColumns(df, listRowsToBoolean);\n",
    "        df2 = GenTransform.removeNonFeatures(df, listNonFeatures);\n",
    "        df3 = GenTransform.generateValueColumns(df2, listRowstoColumns);\n",
    "        df4 = GenTransform.fillNaWithMean(df3);\n",
    "        return(df4);"
   ]
  }
 ],
 "metadata": {
  "kernelspec": {
   "display_name": "Python 3",
   "language": "python",
   "name": "python3"
  },
  "language_info": {
   "codemirror_mode": {
    "name": "ipython",
    "version": 3
   },
   "file_extension": ".py",
   "mimetype": "text/x-python",
   "name": "python",
   "nbconvert_exporter": "python",
   "pygments_lexer": "ipython3",
   "version": "3.6.0"
  }
 },
 "nbformat": 4,
 "nbformat_minor": 2
}
