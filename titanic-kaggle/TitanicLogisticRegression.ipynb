{
 "cells": [
  {
   "cell_type": "code",
   "execution_count": 86,
   "metadata": {
    "collapsed": false
   },
   "outputs": [
    {
     "ename": "SyntaxError",
     "evalue": "invalid syntax (<ipython-input-86-91cdd7fa34f7>, line 27)",
     "output_type": "error",
     "traceback": [
      "\u001b[0;36m  File \u001b[0;32m\"<ipython-input-86-91cdd7fa34f7>\"\u001b[0;36m, line \u001b[0;32m27\u001b[0m\n\u001b[0;31m    def generateValueColumns(df, columns);\u001b[0m\n\u001b[0m                                         ^\u001b[0m\n\u001b[0;31mSyntaxError\u001b[0m\u001b[0;31m:\u001b[0m invalid syntax\n"
     ]
    }
   ],
   "source": [
    "import numpy as np;\n",
    "import pandas as pd;\n",
    "A = np.matrix(\"1 2; 3 4\");\n",
    "print(A);\n",
    "# reader = open(\"D:/datasets/titanic-kaggle/train.csv\", \"r\");\n",
    "trainingDf= pd.read_csv(\"D:/datasets/titanic-kaggle/train.csv\", index_col=0, parse_dates=True, nrows = 10);\n",
    "# print(trainingDf);\n",
    "trainingSet = np.loadtxt(open(\"D://datasets//titanic-kaggle//gender_submission.csv\", \"r\"), delimiter=\",\", skiprows=1)\n",
    "# print(trainingSet)\n",
    "# trainingDf.pivot_table(values='PassengerId', index='PassengerId', columns='Sex', aggfunc=lambda x: len(x.unique()));\n",
    "# print(pd.pivot_table(data=trainingDf, rows=[\"PassengerId\"], cols=[\"Sex\"], values=[\"PassengerId\"], aggfunc='count'))\n",
    "# addColumns = trainingDf.Sex.str.get_dummies();\n",
    "# print(type(addColumns))\n",
    "# trainingDf[\"Cabin\"]=len(trainingDf[\"Cabin\"])\n",
    "listRowstoColumns=[\"Sex\", \"Embarked\"];\n",
    "listRowstoColumns=[Cabin];\n",
    "trainingDf = changeCategorical(trainingDf, listRowstoColumns, listRowsToBoolean);\n",
    "\n",
    "def changeCategorical(df, listRowstoColumns, listRowsToBoolean):\n",
    "    return pd.concat(generateBooleanColumns(df, listRowsToBoolean) , generateValueColumns(df, listRowstoColumns));\n",
    "\n",
    "def generateBooleanColumns(df, columns):\n",
    "    for column in columns:\n",
    "            df[column] = -1 * df[column].isnull() + 1\n",
    "    return\n",
    "\n",
    "def generateValueColumns(df, columns);\n",
    "    finalDf = pd.DataFrame()\n",
    "    for column in columns:\n",
    "        pd.concat([finalDf,trainingDf],axis =1)\n",
    "        \n",
    "# trainingDf  = pd.concat([trainingDf.drop('Sex', axis=1), trainingDf['Sex'].str.get_dummies()])\n",
    "print(trainingDf['Sex'].str.get_dummies())\n",
    "# print(pd.concat([trainingSet, addColumns],axis=1))\n",
    "\n",
    "def "
   ]
  },
  {
   "cell_type": "code",
   "execution_count": 89,
   "metadata": {
    "collapsed": false
   },
   "outputs": [
    {
     "name": "stdout",
     "output_type": "stream",
     "text": [
      "             Survived  Pclass  \\\n",
      "PassengerId                     \n",
      "1                   0       3   \n",
      "2                   1       1   \n",
      "3                   1       3   \n",
      "4                   1       1   \n",
      "5                   0       3   \n",
      "6                   0       3   \n",
      "7                   0       1   \n",
      "8                   0       3   \n",
      "9                   1       3   \n",
      "10                  1       2   \n",
      "\n",
      "                                                          Name     Sex   Age  \\\n",
      "PassengerId                                                                    \n",
      "1                                      Braund, Mr. Owen Harris    male  22.0   \n",
      "2            Cumings, Mrs. John Bradley (Florence Briggs Th...  female  38.0   \n",
      "3                                       Heikkinen, Miss. Laina  female  26.0   \n",
      "4                 Futrelle, Mrs. Jacques Heath (Lily May Peel)  female  35.0   \n",
      "5                                     Allen, Mr. William Henry    male  35.0   \n",
      "6                                             Moran, Mr. James    male   NaN   \n",
      "7                                      McCarthy, Mr. Timothy J    male  54.0   \n",
      "8                               Palsson, Master. Gosta Leonard    male   2.0   \n",
      "9            Johnson, Mrs. Oscar W (Elisabeth Vilhelmina Berg)  female  27.0   \n",
      "10                         Nasser, Mrs. Nicholas (Adele Achem)  female  14.0   \n",
      "\n",
      "             SibSp  Parch            Ticket     Fare Cabin Embarked  new  \n",
      "PassengerId                                                               \n",
      "1                1      0         A/5 21171   7.2500   NaN        S    0  \n",
      "2                1      0          PC 17599  71.2833   C85        C    1  \n",
      "3                0      0  STON/O2. 3101282   7.9250   NaN        S    0  \n",
      "4                1      0            113803  53.1000  C123        S    1  \n",
      "5                0      0            373450   8.0500   NaN        S    0  \n",
      "6                0      0            330877   8.4583   NaN        Q    0  \n",
      "7                0      0             17463  51.8625   E46        S    1  \n",
      "8                3      1            349909  21.0750   NaN        S    0  \n",
      "9                0      2            347742  11.1333   NaN        S    0  \n",
      "10               1      0            237736  30.0708   NaN        C    0  \n"
     ]
    }
   ],
   "source": [
    "trainingDf[\"new\"] = -1 * trainingDf.Cabin.isnull() + 1\n",
    "# trainingDf\n",
    "print(pd.concat([pd.DataFrame(),trainingDf],axis =1))"
   ]
  },
  {
   "cell_type": "raw",
   "metadata": {},
   "source": []
  }
 ],
 "metadata": {
  "kernelspec": {
   "display_name": "Python 3",
   "language": "python",
   "name": "python3"
  },
  "language_info": {
   "codemirror_mode": {
    "name": "ipython",
    "version": 3
   },
   "file_extension": ".py",
   "mimetype": "text/x-python",
   "name": "python",
   "nbconvert_exporter": "python",
   "pygments_lexer": "ipython3",
   "version": "3.6.0"
  }
 },
 "nbformat": 4,
 "nbformat_minor": 2
}
