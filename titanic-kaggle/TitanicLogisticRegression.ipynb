{
 "cells": [
  {
   "cell_type": "code",
   "execution_count": 151,
   "metadata": {
    "collapsed": false
   },
   "outputs": [],
   "source": [
    "import numpy as np;\n",
    "import pandas as pd;\n",
    "from scipy.optimize import fmin_bfgs;\n",
    "import traceback;\n",
    "\n",
    "class GenTransform:\n",
    "    \n",
    "    def __init__(self):\n",
    "        return;\n",
    "    \n",
    "    @staticmethod\n",
    "    def generateBooleanColumns(df, columns):\n",
    "        for column in columns:\n",
    "                df[column] = -1 * df[column].isnull() + 1\n",
    "        return df;\n",
    "    \n",
    "    @staticmethod\n",
    "    def generateValueColumns(df, columns):\n",
    "        for column in columns:\n",
    "            df = pd.concat([df.drop(column, axis=1), df[column].str.get_dummies()], axis = 1);\n",
    "        return df;\n",
    "    \n",
    "    @staticmethod\n",
    "    def removeNonFeatures(df, columns):\n",
    "        for column in columns:\n",
    "            df = df.drop(column, axis = 1);\n",
    "        return df;\n",
    "    \n",
    "    @staticmethod\n",
    "    def fillNaWithMean(df):\n",
    "        return df.fillna(df.mean());\n",
    "    \n",
    "    @staticmethod\n",
    "    def dataTransform(df, listRowstoColumns, listRowsToBoolean, listNonFeatures):\n",
    "        df1 = GenTransform.generateBooleanColumns(df, listRowsToBoolean);\n",
    "        df2 = GenTransform.removeNonFeatures(df, listNonFeatures);\n",
    "        df3 = GenTransform.generateValueColumns(df2, listRowstoColumns);\n",
    "        df4 = GenTransform.fillNaWithMean(df3);\n",
    "        return(df4);\n"
   ]
  },
  {
   "cell_type": "code",
   "execution_count": 192,
   "metadata": {
    "collapsed": false
   },
   "outputs": [
    {
     "name": "stdout",
     "output_type": "stream",
     "text": [
      "before constructor (891, 1) 891\n",
      "Optimization terminated successfully.\n",
      "         Current function value: 0.436913\n",
      "         Iterations: 80\n",
      "         Function evaluations: 87\n",
      "         Gradient evaluations: 87\n",
      "Warning: Desired error not necessarily achieved due to precision loss.\n",
      "         Current function value: 0.439723\n",
      "         Iterations: 37\n",
      "         Function evaluations: 148\n",
      "         Gradient evaluations: 136\n"
     ]
    },
    {
     "name": "stderr",
     "output_type": "stream",
     "text": [
      "C:\\ProgramData\\Anaconda3\\lib\\site-packages\\ipykernel\\__main__.py:63: RuntimeWarning: divide by zero encountered in log\n",
      "C:\\ProgramData\\Anaconda3\\lib\\site-packages\\ipykernel\\__main__.py:63: RuntimeWarning: invalid value encountered in multiply\n",
      "C:\\ProgramData\\Anaconda3\\lib\\site-packages\\ipykernel\\__main__.py:63: RuntimeWarning: divide by zero encountered in log\n",
      "C:\\ProgramData\\Anaconda3\\lib\\site-packages\\ipykernel\\__main__.py:63: RuntimeWarning: invalid value encountered in multiply\n",
      "C:\\ProgramData\\Anaconda3\\lib\\site-packages\\ipykernel\\__main__.py:63: RuntimeWarning: divide by zero encountered in log\n",
      "C:\\ProgramData\\Anaconda3\\lib\\site-packages\\ipykernel\\__main__.py:63: RuntimeWarning: invalid value encountered in multiply\n"
     ]
    },
    {
     "name": "stdout",
     "output_type": "stream",
     "text": [
      "Warning: Desired error not necessarily achieved due to precision loss.\n",
      "         Current function value: 0.441963\n",
      "         Iterations: 37\n",
      "         Function evaluations: 132\n",
      "         Gradient evaluations: 120\n",
      "Warning: Desired error not necessarily achieved due to precision loss.\n",
      "         Current function value: 0.444051\n",
      "         Iterations: 38\n",
      "         Function evaluations: 88\n",
      "         Gradient evaluations: 77\n",
      "Warning: Desired error not necessarily achieved due to precision loss.\n",
      "         Current function value: 0.446009\n",
      "         Iterations: 37\n",
      "         Function evaluations: 102\n",
      "         Gradient evaluations: 91\n"
     ]
    },
    {
     "name": "stderr",
     "output_type": "stream",
     "text": [
      "C:\\ProgramData\\Anaconda3\\lib\\site-packages\\ipykernel\\__main__.py:63: RuntimeWarning: divide by zero encountered in log\n",
      "C:\\ProgramData\\Anaconda3\\lib\\site-packages\\ipykernel\\__main__.py:63: RuntimeWarning: invalid value encountered in multiply\n",
      "C:\\ProgramData\\Anaconda3\\lib\\site-packages\\ipykernel\\__main__.py:63: RuntimeWarning: divide by zero encountered in log\n",
      "C:\\ProgramData\\Anaconda3\\lib\\site-packages\\ipykernel\\__main__.py:63: RuntimeWarning: invalid value encountered in multiply\n"
     ]
    },
    {
     "name": "stdout",
     "output_type": "stream",
     "text": [
      "Warning: Desired error not necessarily achieved due to precision loss.\n",
      "         Current function value: 0.447872\n",
      "         Iterations: 37\n",
      "         Function evaluations: 142\n",
      "         Gradient evaluations: 130\n",
      "Warning: Desired error not necessarily achieved due to precision loss.\n",
      "         Current function value: 0.449613\n",
      "         Iterations: 37\n",
      "         Function evaluations: 141\n",
      "         Gradient evaluations: 129\n"
     ]
    },
    {
     "name": "stderr",
     "output_type": "stream",
     "text": [
      "C:\\ProgramData\\Anaconda3\\lib\\site-packages\\ipykernel\\__main__.py:63: RuntimeWarning: divide by zero encountered in log\n",
      "C:\\ProgramData\\Anaconda3\\lib\\site-packages\\ipykernel\\__main__.py:63: RuntimeWarning: invalid value encountered in multiply\n",
      "C:\\ProgramData\\Anaconda3\\lib\\site-packages\\ipykernel\\__main__.py:63: RuntimeWarning: divide by zero encountered in log\n",
      "C:\\ProgramData\\Anaconda3\\lib\\site-packages\\ipykernel\\__main__.py:63: RuntimeWarning: invalid value encountered in multiply\n"
     ]
    },
    {
     "name": "stdout",
     "output_type": "stream",
     "text": [
      "Warning: Desired error not necessarily achieved due to precision loss.\n",
      "         Current function value: 0.451280\n",
      "         Iterations: 37\n",
      "         Function evaluations: 133\n",
      "         Gradient evaluations: 121\n",
      "Warning: Desired error not necessarily achieved due to precision loss.\n",
      "         Current function value: 0.452852\n",
      "         Iterations: 38\n",
      "         Function evaluations: 108\n",
      "         Gradient evaluations: 98\n",
      "Warning: Desired error not necessarily achieved due to precision loss.\n",
      "         Current function value: 0.454325\n",
      "         Iterations: 38\n",
      "         Function evaluations: 145\n",
      "         Gradient evaluations: 133\n"
     ]
    },
    {
     "name": "stderr",
     "output_type": "stream",
     "text": [
      "C:\\ProgramData\\Anaconda3\\lib\\site-packages\\ipykernel\\__main__.py:63: RuntimeWarning: divide by zero encountered in log\n",
      "C:\\ProgramData\\Anaconda3\\lib\\site-packages\\ipykernel\\__main__.py:63: RuntimeWarning: invalid value encountered in multiply\n",
      "C:\\ProgramData\\Anaconda3\\lib\\site-packages\\ipykernel\\__main__.py:63: RuntimeWarning: divide by zero encountered in log\n",
      "C:\\ProgramData\\Anaconda3\\lib\\site-packages\\ipykernel\\__main__.py:63: RuntimeWarning: invalid value encountered in multiply\n",
      "C:\\ProgramData\\Anaconda3\\lib\\site-packages\\ipykernel\\__main__.py:63: RuntimeWarning: divide by zero encountered in log\n",
      "C:\\ProgramData\\Anaconda3\\lib\\site-packages\\ipykernel\\__main__.py:63: RuntimeWarning: invalid value encountered in multiply\n"
     ]
    },
    {
     "name": "stdout",
     "output_type": "stream",
     "text": [
      "Warning: Desired error not necessarily achieved due to precision loss.\n",
      "         Current function value: 0.452922\n",
      "         Iterations: 59\n",
      "         Function evaluations: 142\n",
      "         Gradient evaluations: 130\n",
      "Warning: Desired error not necessarily achieved due to precision loss.\n",
      "         Current function value: 0.457102\n",
      "         Iterations: 38\n",
      "         Function evaluations: 133\n",
      "         Gradient evaluations: 121\n"
     ]
    },
    {
     "name": "stderr",
     "output_type": "stream",
     "text": [
      "C:\\ProgramData\\Anaconda3\\lib\\site-packages\\ipykernel\\__main__.py:63: RuntimeWarning: divide by zero encountered in log\n",
      "C:\\ProgramData\\Anaconda3\\lib\\site-packages\\ipykernel\\__main__.py:63: RuntimeWarning: invalid value encountered in multiply\n",
      "C:\\ProgramData\\Anaconda3\\lib\\site-packages\\ipykernel\\__main__.py:63: RuntimeWarning: divide by zero encountered in log\n",
      "C:\\ProgramData\\Anaconda3\\lib\\site-packages\\ipykernel\\__main__.py:63: RuntimeWarning: invalid value encountered in multiply\n"
     ]
    },
    {
     "name": "stdout",
     "output_type": "stream",
     "text": [
      "Warning: Desired error not necessarily achieved due to precision loss.\n",
      "         Current function value: 0.458351\n",
      "         Iterations: 40\n",
      "         Function evaluations: 146\n",
      "         Gradient evaluations: 134\n",
      "Warning: Desired error not necessarily achieved due to precision loss.\n",
      "         Current function value: 0.459556\n",
      "         Iterations: 40\n",
      "         Function evaluations: 124\n",
      "         Gradient evaluations: 112\n"
     ]
    },
    {
     "name": "stderr",
     "output_type": "stream",
     "text": [
      "C:\\ProgramData\\Anaconda3\\lib\\site-packages\\ipykernel\\__main__.py:63: RuntimeWarning: divide by zero encountered in log\n",
      "C:\\ProgramData\\Anaconda3\\lib\\site-packages\\ipykernel\\__main__.py:63: RuntimeWarning: invalid value encountered in multiply\n",
      "C:\\ProgramData\\Anaconda3\\lib\\site-packages\\ipykernel\\__main__.py:63: RuntimeWarning: divide by zero encountered in log\n",
      "C:\\ProgramData\\Anaconda3\\lib\\site-packages\\ipykernel\\__main__.py:63: RuntimeWarning: invalid value encountered in multiply\n"
     ]
    },
    {
     "name": "stdout",
     "output_type": "stream",
     "text": [
      "Warning: Desired error not necessarily achieved due to precision loss.\n",
      "         Current function value: 0.458430\n",
      "         Iterations: 57\n",
      "         Function evaluations: 151\n",
      "         Gradient evaluations: 139\n",
      "Warning: Desired error not necessarily achieved due to precision loss.\n",
      "         Current function value: 0.459762\n",
      "         Iterations: 56\n",
      "         Function evaluations: 154\n",
      "         Gradient evaluations: 142\n"
     ]
    },
    {
     "name": "stderr",
     "output_type": "stream",
     "text": [
      "C:\\ProgramData\\Anaconda3\\lib\\site-packages\\ipykernel\\__main__.py:63: RuntimeWarning: divide by zero encountered in log\n",
      "C:\\ProgramData\\Anaconda3\\lib\\site-packages\\ipykernel\\__main__.py:63: RuntimeWarning: invalid value encountered in multiply\n",
      "C:\\ProgramData\\Anaconda3\\lib\\site-packages\\ipykernel\\__main__.py:63: RuntimeWarning: divide by zero encountered in log\n",
      "C:\\ProgramData\\Anaconda3\\lib\\site-packages\\ipykernel\\__main__.py:63: RuntimeWarning: invalid value encountered in multiply\n"
     ]
    },
    {
     "name": "stdout",
     "output_type": "stream",
     "text": [
      "Warning: Desired error not necessarily achieved due to precision loss.\n",
      "         Current function value: 0.462990\n",
      "         Iterations: 41\n",
      "         Function evaluations: 145\n",
      "         Gradient evaluations: 133\n",
      "Warning: Desired error not necessarily achieved due to precision loss.\n",
      "         Current function value: 0.464236\n",
      "         Iterations: 39\n",
      "         Function evaluations: 135\n",
      "         Gradient evaluations: 123\n"
     ]
    },
    {
     "name": "stderr",
     "output_type": "stream",
     "text": [
      "C:\\ProgramData\\Anaconda3\\lib\\site-packages\\ipykernel\\__main__.py:63: RuntimeWarning: divide by zero encountered in log\n",
      "C:\\ProgramData\\Anaconda3\\lib\\site-packages\\ipykernel\\__main__.py:63: RuntimeWarning: invalid value encountered in multiply\n",
      "C:\\ProgramData\\Anaconda3\\lib\\site-packages\\ipykernel\\__main__.py:63: RuntimeWarning: divide by zero encountered in log\n",
      "C:\\ProgramData\\Anaconda3\\lib\\site-packages\\ipykernel\\__main__.py:63: RuntimeWarning: invalid value encountered in multiply\n"
     ]
    },
    {
     "name": "stdout",
     "output_type": "stream",
     "text": [
      "Warning: Desired error not necessarily achieved due to precision loss.\n",
      "         Current function value: 0.463602\n",
      "         Iterations: 55\n",
      "         Function evaluations: 175\n",
      "         Gradient evaluations: 163\n",
      "Warning: Desired error not necessarily achieved due to precision loss.\n",
      "         Current function value: 0.466333\n",
      "         Iterations: 39\n",
      "         Function evaluations: 99\n",
      "         Gradient evaluations: 89\n",
      "Warning: Desired error not necessarily achieved due to precision loss.\n",
      "         Current function value: 0.466069\n",
      "         Iterations: 56\n",
      "         Function evaluations: 175\n",
      "         Gradient evaluations: 163\n"
     ]
    },
    {
     "name": "stderr",
     "output_type": "stream",
     "text": [
      "C:\\ProgramData\\Anaconda3\\lib\\site-packages\\ipykernel\\__main__.py:63: RuntimeWarning: divide by zero encountered in log\n",
      "C:\\ProgramData\\Anaconda3\\lib\\site-packages\\ipykernel\\__main__.py:63: RuntimeWarning: invalid value encountered in multiply\n",
      "C:\\ProgramData\\Anaconda3\\lib\\site-packages\\ipykernel\\__main__.py:63: RuntimeWarning: divide by zero encountered in log\n",
      "C:\\ProgramData\\Anaconda3\\lib\\site-packages\\ipykernel\\__main__.py:63: RuntimeWarning: invalid value encountered in multiply\n",
      "C:\\ProgramData\\Anaconda3\\lib\\site-packages\\ipykernel\\__main__.py:63: RuntimeWarning: divide by zero encountered in log\n",
      "C:\\ProgramData\\Anaconda3\\lib\\site-packages\\ipykernel\\__main__.py:63: RuntimeWarning: invalid value encountered in multiply\n"
     ]
    },
    {
     "name": "stdout",
     "output_type": "stream",
     "text": [
      "Warning: Desired error not necessarily achieved due to precision loss.\n",
      "         Current function value: 0.468398\n",
      "         Iterations: 40\n",
      "         Function evaluations: 154\n",
      "         Gradient evaluations: 142\n",
      "Warning: Desired error not necessarily achieved due to precision loss.\n",
      "         Current function value: 0.469395\n",
      "         Iterations: 40\n",
      "         Function evaluations: 107\n",
      "         Gradient evaluations: 96\n",
      "Warning: Desired error not necessarily achieved due to precision loss.\n",
      "         Current function value: 0.470303\n",
      "         Iterations: 43\n",
      "         Function evaluations: 133\n",
      "         Gradient evaluations: 121\n"
     ]
    },
    {
     "name": "stderr",
     "output_type": "stream",
     "text": [
      "C:\\ProgramData\\Anaconda3\\lib\\site-packages\\ipykernel\\__main__.py:63: RuntimeWarning: divide by zero encountered in log\n",
      "C:\\ProgramData\\Anaconda3\\lib\\site-packages\\ipykernel\\__main__.py:63: RuntimeWarning: invalid value encountered in multiply\n",
      "C:\\ProgramData\\Anaconda3\\lib\\site-packages\\ipykernel\\__main__.py:63: RuntimeWarning: divide by zero encountered in log\n",
      "C:\\ProgramData\\Anaconda3\\lib\\site-packages\\ipykernel\\__main__.py:63: RuntimeWarning: invalid value encountered in multiply\n",
      "C:\\ProgramData\\Anaconda3\\lib\\site-packages\\ipykernel\\__main__.py:63: RuntimeWarning: divide by zero encountered in log\n",
      "C:\\ProgramData\\Anaconda3\\lib\\site-packages\\ipykernel\\__main__.py:63: RuntimeWarning: invalid value encountered in multiply\n"
     ]
    },
    {
     "name": "stdout",
     "output_type": "stream",
     "text": [
      "Warning: Desired error not necessarily achieved due to precision loss.\n",
      "         Current function value: 0.471304\n",
      "         Iterations: 43\n",
      "         Function evaluations: 138\n",
      "         Gradient evaluations: 126\n",
      "Warning: Desired error not necessarily achieved due to precision loss.\n",
      "         Current function value: 0.472413\n",
      "         Iterations: 43\n",
      "         Function evaluations: 104\n",
      "         Gradient evaluations: 92\n",
      "Warning: Desired error not necessarily achieved due to precision loss.\n",
      "         Current function value: 0.473499\n",
      "         Iterations: 40\n",
      "         Function evaluations: 160\n",
      "         Gradient evaluations: 148\n",
      "Warning: Desired error not necessarily achieved due to precision loss.\n",
      "         Current function value: 0.474386\n",
      "         Iterations: 43\n"
     ]
    },
    {
     "name": "stderr",
     "output_type": "stream",
     "text": [
      "C:\\ProgramData\\Anaconda3\\lib\\site-packages\\ipykernel\\__main__.py:63: RuntimeWarning: divide by zero encountered in log\n",
      "C:\\ProgramData\\Anaconda3\\lib\\site-packages\\ipykernel\\__main__.py:63: RuntimeWarning: invalid value encountered in multiply\n",
      "C:\\ProgramData\\Anaconda3\\lib\\site-packages\\ipykernel\\__main__.py:63: RuntimeWarning: divide by zero encountered in log\n",
      "C:\\ProgramData\\Anaconda3\\lib\\site-packages\\ipykernel\\__main__.py:63: RuntimeWarning: invalid value encountered in multiply\n",
      "C:\\ProgramData\\Anaconda3\\lib\\site-packages\\ipykernel\\__main__.py:63: RuntimeWarning: divide by zero encountered in log\n",
      "C:\\ProgramData\\Anaconda3\\lib\\site-packages\\ipykernel\\__main__.py:63: RuntimeWarning: invalid value encountered in multiply\n",
      "C:\\ProgramData\\Anaconda3\\lib\\site-packages\\ipykernel\\__main__.py:63: RuntimeWarning: divide by zero encountered in log\n",
      "C:\\ProgramData\\Anaconda3\\lib\\site-packages\\ipykernel\\__main__.py:63: RuntimeWarning: invalid value encountered in multiply\n"
     ]
    },
    {
     "name": "stdout",
     "output_type": "stream",
     "text": [
      "         Function evaluations: 103\n",
      "         Gradient evaluations: 91\n",
      "Warning: Desired error not necessarily achieved due to precision loss.\n",
      "         Current function value: 0.475353\n",
      "         Iterations: 42\n",
      "         Function evaluations: 145\n",
      "         Gradient evaluations: 133\n",
      "Warning: Desired error not necessarily achieved due to precision loss.\n",
      "         Current function value: 0.476356\n",
      "         Iterations: 42\n",
      "         Function evaluations: 157\n",
      "         Gradient evaluations: 145\n",
      "Warning: Desired error not necessarily achieved due to precision loss.\n",
      "         Current function value: 0.486252\n",
      "         Iterations: 14\n",
      "         Function evaluations: 75\n",
      "         Gradient evaluations: 63\n"
     ]
    },
    {
     "name": "stderr",
     "output_type": "stream",
     "text": [
      "C:\\ProgramData\\Anaconda3\\lib\\site-packages\\ipykernel\\__main__.py:63: RuntimeWarning: divide by zero encountered in log\n",
      "C:\\ProgramData\\Anaconda3\\lib\\site-packages\\ipykernel\\__main__.py:63: RuntimeWarning: invalid value encountered in multiply\n",
      "C:\\ProgramData\\Anaconda3\\lib\\site-packages\\ipykernel\\__main__.py:63: RuntimeWarning: divide by zero encountered in log\n",
      "C:\\ProgramData\\Anaconda3\\lib\\site-packages\\ipykernel\\__main__.py:63: RuntimeWarning: invalid value encountered in multiply\n",
      "C:\\ProgramData\\Anaconda3\\lib\\site-packages\\ipykernel\\__main__.py:63: RuntimeWarning: divide by zero encountered in log\n",
      "C:\\ProgramData\\Anaconda3\\lib\\site-packages\\ipykernel\\__main__.py:63: RuntimeWarning: invalid value encountered in multiply\n"
     ]
    },
    {
     "name": "stdout",
     "output_type": "stream",
     "text": [
      "Warning: Desired error not necessarily achieved due to precision loss.\n",
      "         Current function value: 0.478193\n",
      "         Iterations: 47\n",
      "         Function evaluations: 173\n",
      "         Gradient evaluations: 161\n",
      "Warning: Desired error not necessarily achieved due to precision loss.\n",
      "         Current function value: 0.479162\n",
      "         Iterations: 47\n",
      "         Function evaluations: 129\n",
      "         Gradient evaluations: 118\n",
      "Warning: Desired error not necessarily achieved due to precision loss.\n",
      "         Current function value: 0.489034\n",
      "         Iterations: 16\n",
      "         Function evaluations: 68\n",
      "         Gradient evaluations: 56\n",
      "Warning: Desired error not necessarily achieved due to precision loss."
     ]
    },
    {
     "name": "stderr",
     "output_type": "stream",
     "text": [
      "C:\\ProgramData\\Anaconda3\\lib\\site-packages\\ipykernel\\__main__.py:63: RuntimeWarning: divide by zero encountered in log\n",
      "C:\\ProgramData\\Anaconda3\\lib\\site-packages\\ipykernel\\__main__.py:63: RuntimeWarning: invalid value encountered in multiply\n",
      "C:\\ProgramData\\Anaconda3\\lib\\site-packages\\ipykernel\\__main__.py:63: RuntimeWarning: divide by zero encountered in log\n",
      "C:\\ProgramData\\Anaconda3\\lib\\site-packages\\ipykernel\\__main__.py:63: RuntimeWarning: invalid value encountered in multiply\n",
      "C:\\ProgramData\\Anaconda3\\lib\\site-packages\\ipykernel\\__main__.py:63: RuntimeWarning: divide by zero encountered in log\n",
      "C:\\ProgramData\\Anaconda3\\lib\\site-packages\\ipykernel\\__main__.py:63: RuntimeWarning: invalid value encountered in multiply\n",
      "C:\\ProgramData\\Anaconda3\\lib\\site-packages\\ipykernel\\__main__.py:63: RuntimeWarning: divide by zero encountered in log\n",
      "C:\\ProgramData\\Anaconda3\\lib\\site-packages\\ipykernel\\__main__.py:63: RuntimeWarning: invalid value encountered in multiply\n",
      "C:\\ProgramData\\Anaconda3\\lib\\site-packages\\ipykernel\\__main__.py:63: RuntimeWarning: divide by zero encountered in log\n",
      "C:\\ProgramData\\Anaconda3\\lib\\site-packages\\ipykernel\\__main__.py:63: RuntimeWarning: invalid value encountered in multiply\n",
      "C:\\ProgramData\\Anaconda3\\lib\\site-packages\\ipykernel\\__main__.py:63: RuntimeWarning: divide by zero encountered in log\n",
      "C:\\ProgramData\\Anaconda3\\lib\\site-packages\\ipykernel\\__main__.py:63: RuntimeWarning: invalid value encountered in multiply\n"
     ]
    },
    {
     "name": "stdout",
     "output_type": "stream",
     "text": [
      "\n",
      "         Current function value: 0.481111\n",
      "         Iterations: 49\n",
      "         Function evaluations: 168\n",
      "         Gradient evaluations: 156\n",
      "Warning: Desired error not necessarily achieved due to precision loss.\n",
      "         Current function value: 0.482078\n",
      "         Iterations: 48\n",
      "         Function evaluations: 175\n",
      "         Gradient evaluations: 163\n",
      "Warning: Desired error not necessarily achieved due to precision loss.\n",
      "         Current function value: 0.483016\n",
      "         Iterations: 47\n",
      "         Function evaluations: 153\n",
      "         Gradient evaluations: 141\n",
      "Warning: Desired error not necessarily achieved due to precision loss.\n",
      "         Current function value: 0.486600\n",
      "         Iterations: 34\n",
      "         Function evaluations: 119\n",
      "         Gradient evaluations: 108\n",
      "Warning: Desired error not necessarily achieved due to precision loss.\n",
      "         Current function value: 0.484939\n",
      "         Iterations: 50\n",
      "         Function evaluations: 187\n",
      "         Gradient evaluations: 175\n",
      "Warning: Desired error not necessarily achieved due to precision loss.\n",
      "         Current function value: 0.494627\n",
      "         Iterations: 16\n",
      "         Function evaluations: 83\n",
      "         Gradient evaluations: 71\n",
      "718 9.9\n"
     ]
    },
    {
     "name": "stderr",
     "output_type": "stream",
     "text": [
      "C:\\ProgramData\\Anaconda3\\lib\\site-packages\\ipykernel\\__main__.py:63: RuntimeWarning: divide by zero encountered in log\n",
      "C:\\ProgramData\\Anaconda3\\lib\\site-packages\\ipykernel\\__main__.py:63: RuntimeWarning: invalid value encountered in multiply\n",
      "C:\\ProgramData\\Anaconda3\\lib\\site-packages\\ipykernel\\__main__.py:63: RuntimeWarning: divide by zero encountered in log\n",
      "C:\\ProgramData\\Anaconda3\\lib\\site-packages\\ipykernel\\__main__.py:63: RuntimeWarning: invalid value encountered in multiply\n"
     ]
    }
   ],
   "source": [
    "class LogisticRegression:\n",
    "    \n",
    "    def __init__(self, X, y, lam):\n",
    "        self.X = X;\n",
    "#         print(\"in constructor, length of received arguement: \", y.shape)\n",
    "        self.y = y;\n",
    "        self.lam = lam;\n",
    "        self.m = X.shape[0];\n",
    "        self.n = X.shape[1];\n",
    "        self.y = np.reshape(self.y, (self.m,1)); # need to check why this is happening\n",
    "        self.X = LogisticRegression.addIntercept(self.X); # to be checked for documentation for how class name used in constructor\n",
    "        self.theta = self.initializeTheta();\n",
    "#         print(\"constructor\",self.y.shape);\n",
    "        \n",
    "    def initializeTheta(self):\n",
    "        return np.zeros((self.n + 1, 1));\n",
    "    \n",
    "    @staticmethod\n",
    "    def addIntercept(X):\n",
    "        m = X.shape[0];\n",
    "        X = np.hstack((np.ones((m,1)), X));\n",
    "        return X;\n",
    "        \n",
    "    @staticmethod\n",
    "    def sigmoid(z):\n",
    "        return 1 / (1 + np.exp(-1 * z));\n",
    "\n",
    "    def buildModel(self):\n",
    "        \n",
    "        fminOutput = fmin_bfgs(\n",
    "                            self.costFunction,\n",
    "                            self.theta,\n",
    "                            self.gradFunction,\n",
    "                            disp=True,\n",
    "                            maxiter=400,\n",
    "                            full_output = True,\n",
    "                            retall=True\n",
    "                        );\n",
    "        opTheta = fminOutput[0];\n",
    "        opTheta = opTheta.reshape((self.n + 1, 1));\n",
    "        return opTheta, fminOutput\n",
    "        \n",
    "    \n",
    "        \n",
    "    def costFunction(self, theta):\n",
    "        \n",
    "        theta = np.reshape(theta,(self.n + 1, 1));\n",
    "        \n",
    "        z = np.dot(self.X, theta);\n",
    "        h = LogisticRegression.sigmoid(z);\n",
    "#         print(\"cost function before\",self.y.shape);\n",
    "        J = np.add(\n",
    "                np.multiply(\n",
    "                    (1/self.m) \n",
    "                    , np.sum( \n",
    "                            np.subtract(\n",
    "                                np.multiply(\n",
    "                                    np.multiply(-1, self.y),\n",
    "                                    np.log(h)\n",
    "                                )\n",
    "                                , np.multiply(\n",
    "                                    np.subtract(1, self.y), \n",
    "                                    np.log(np.subtract(1, h))\n",
    "                                )\n",
    "                            )\n",
    "                        )\n",
    "                   )  \n",
    "                , np.multiply(\n",
    "                    (self.lam/self.m) \n",
    "                    , np.sum(\n",
    "                        np.square(\n",
    "                            np.vstack(\n",
    "                                [0, theta[1:]]\n",
    "                            )\n",
    "                        )\n",
    "                    ) \n",
    "                )\n",
    "        );\n",
    "#         print(\"cost function after\",self.y.shape);\n",
    "        return J;\n",
    "    \n",
    "    def gradFunction(self, theta):\n",
    "        \n",
    "#         print(\"grad function before\",self.y.shape);\n",
    "        theta = np.reshape(theta,(self.n + 1, 1));\n",
    "        \n",
    "#         print(\"grad function after reshaping\",self.y.shape);\n",
    "        z = np.dot(self.X, theta);\n",
    "        h = LogisticRegression.sigmoid(z);\n",
    "        \n",
    "        grad = ( \n",
    "                    np.multiply(\n",
    "                        (1/self.m) \n",
    "                        , (\n",
    "                           np.dot(\n",
    "                               np.transpose(self.X)\n",
    "                                ,np.subtract(h, self.y)\n",
    "                           )\n",
    "                        )\n",
    "                    )\n",
    "                ) + \\\n",
    "                ( \n",
    "                    np.multiply(\n",
    "                        (self.lam/self.m)\n",
    "                        , np.vstack(\n",
    "                            [0, theta[1:]]\n",
    "                        )\n",
    "                    )\n",
    "                );\n",
    "#         print(\"grad function after function formula\",self.y.shape);\n",
    "        grad = np.asarray(grad).reshape((self.n + 1,));\n",
    "#         print(\"grad function after function formula and reshaping\",self.y.shape);\n",
    "        return grad;\n",
    "    \n",
    "    \n",
    "# sampleX = np.matrix('1 2; 3 4; 5 6; 7 8');\n",
    "# sampleY = np.matrix('1;0;0;1')\n",
    "# lgTest = LogisticRegression(sampleX, sampleY, 1);\n",
    "# try:\n",
    "#     opTheta, fminOutput = lgTest.buildModel();\n",
    "# except(e):\n",
    "#     print(e);\n",
    "# LogisticRegression.sigmoid(LogisticRegression.addIntercept(sampleX) * opTheta)\n",
    "\n",
    "\n",
    "listRowsToColumns=[\"Sex\", \"Embarked\"];\n",
    "listRowsToBoolean=[\"Cabin\"];\n",
    "listNonFeatures = [\"Name\", \"Ticket\"];\n",
    "\n",
    "\n",
    "# trainingDf= pd.read_csv(\"C:/Dinesh/kaggle/titanic/train.csv\", index_col=0, parse_dates=True, nrows = 20);\n",
    "trainingDf= pd.read_csv(\"D:/datasets/titanic-kaggle/train.csv\", index_col=0, parse_dates=True);\n",
    "trainingDf = GenTransform.dataTransform(trainingDf, listRowsToColumns, listRowsToBoolean, listNonFeatures);   \n",
    "\n",
    "\n",
    "trainingX = np.matrix(trainingDf.ix[:, trainingDf.columns != 'Survived'].values);\n",
    "trainingY = np.transpose(np.matrix(trainingDf[\"Survived\"].values));\n",
    "print(\"before constructor\",trainingY.shape, len(trainingY));\n",
    "# try:\n",
    "maxAcc = 0;\n",
    "for lam in range(0,120,3):\n",
    "    lrIns = LogisticRegression(trainingX, trainingY, float(lam)/10.0);\n",
    "    theta, fminOutput = lrIns.buildModel();\n",
    "    predictedY = np.round(LogisticRegression.sigmoid(np.dot(LogisticRegression.addIntercept(trainingX),theta)));\n",
    "    currAcc = np.count_nonzero(trainingY == predictedY)\n",
    "    if(currAcc>maxAcc):\n",
    "        opLam = lam;\n",
    "        opTheta = theta;\n",
    "        maxAcc = currAcc;\n",
    "print(maxAcc, float(opLam)/10.0);\n",
    "    \n",
    "    \n",
    "    \n",
    "# except:\n",
    "#     traceback.print_exc();\n",
    "#     pass;\n",
    "\n"
   ]
  },
  {
   "cell_type": "code",
   "execution_count": 157,
   "metadata": {
    "collapsed": false
   },
   "outputs": [
    {
     "name": "stdout",
     "output_type": "stream",
     "text": [
      "2\n",
      "1\n"
     ]
    }
   ],
   "source": [
    "h = np.matrix('1 ;2; 3')\n",
    "y = np.matrix('0 2 3')\n",
    "print(np.count_nonzero(h == y));\n",
    "print(len(y))\n",
    "\n",
    "\n"
   ]
  },
  {
   "cell_type": "code",
   "execution_count": 161,
   "metadata": {
    "collapsed": false
   },
   "outputs": [
    {
     "name": "stdout",
     "output_type": "stream",
     "text": [
      "18\n"
     ]
    }
   ],
   "source": [
    "def A(x):\n",
    "    return x + 3;\n",
    "def B(x):\n",
    "    return x + 6;\n",
    "def C(x):\n",
    "    return x + 9;\n",
    "print(\n",
    "    A(B(C(0)))\n",
    ");"
   ]
  },
  {
   "cell_type": "code",
   "execution_count": 110,
   "metadata": {
    "collapsed": false
   },
   "outputs": [
    {
     "data": {
      "text/plain": [
       "matrix([[2, 4, 6],\n",
       "        [6, 8, 6]])"
      ]
     },
     "execution_count": 110,
     "metadata": {},
     "output_type": "execute_result"
    }
   ],
   "source": [
    "A = np.matrix('1 2 3; 3 4 3');\n",
    "B = np.matrix('1 2 3; 3 4 3');\n",
    "np.add(A, B)\n"
   ]
  },
  {
   "cell_type": "code",
   "execution_count": 185,
   "metadata": {
    "collapsed": false
   },
   "outputs": [
    {
     "name": "stdout",
     "output_type": "stream",
     "text": [
      "Optimization terminated successfully.\n",
      "         Current function value: -357913945.000000\n",
      "         Iterations: 1\n",
      "         Function evaluations: 48\n",
      "         Gradient evaluations: 16\n",
      "[ -3.57913940e+08]\n"
     ]
    },
    {
     "data": {
      "text/plain": [
       "-357913945.0"
      ]
     },
     "execution_count": 185,
     "metadata": {},
     "output_type": "execute_result"
    }
   ],
   "source": [
    "class test:\n",
    "    def costFunction(self, x):\n",
    "        return x-5;\n",
    "\n",
    "print(fmin_bfgs(test().costFunction, x0 = 1))\n",
    "\n",
    "(-3.57913940e+08) -5\n"
   ]
  },
  {
   "cell_type": "code",
   "execution_count": null,
   "metadata": {
    "collapsed": true
   },
   "outputs": [],
   "source": []
  }
 ],
 "metadata": {
  "kernelspec": {
   "display_name": "Python 3",
   "language": "python",
   "name": "python3"
  },
  "language_info": {
   "codemirror_mode": {
    "name": "ipython",
    "version": 3
   },
   "file_extension": ".py",
   "mimetype": "text/x-python",
   "name": "python",
   "nbconvert_exporter": "python",
   "pygments_lexer": "ipython3",
   "version": "3.6.0"
  }
 },
 "nbformat": 4,
 "nbformat_minor": 2
}
