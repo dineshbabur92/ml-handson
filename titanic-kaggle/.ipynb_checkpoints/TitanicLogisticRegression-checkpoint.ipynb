{
 "cells": [
  {
   "cell_type": "code",
   "execution_count": 236,
   "metadata": {
    "collapsed": false
   },
   "outputs": [
    {
     "name": "stdout",
     "output_type": "stream",
     "text": [
      "\n"
     ]
    },
    {
     "ename": "ValueError",
     "evalue": "shapes (1,2) and (1,2) not aligned: 2 (dim 1) != 1 (dim 0)",
     "output_type": "error",
     "traceback": [
      "\u001b[0;31m---------------------------------------------------------------------------\u001b[0m",
      "\u001b[0;31mValueError\u001b[0m                                Traceback (most recent call last)",
      "\u001b[0;32m<ipython-input-236-cc4c74ec60a2>\u001b[0m in \u001b[0;36m<module>\u001b[0;34m()\u001b[0m\n\u001b[1;32m    115\u001b[0m \u001b[1;31m#     theta\u001b[0m\u001b[1;33m\u001b[0m\u001b[1;33m\u001b[0m\u001b[0m\n\u001b[1;32m    116\u001b[0m );\n\u001b[0;32m--> 117\u001b[0;31m \u001b[0mtheta\u001b[0m \u001b[1;33m=\u001b[0m \u001b[0mfmin_bfgs\u001b[0m\u001b[1;33m(\u001b[0m\u001b[0mcostFunction\u001b[0m\u001b[1;33m,\u001b[0m \u001b[0mtheta\u001b[0m\u001b[1;33m,\u001b[0m \u001b[0mmaxiter\u001b[0m\u001b[1;33m=\u001b[0m\u001b[1;36m10\u001b[0m\u001b[1;33m,\u001b[0m \u001b[0margs\u001b[0m\u001b[1;33m=\u001b[0m\u001b[1;33m(\u001b[0m\u001b[0mX\u001b[0m\u001b[1;33m,\u001b[0m \u001b[0my\u001b[0m\u001b[1;33m,\u001b[0m \u001b[1;36m1\u001b[0m\u001b[1;33m)\u001b[0m\u001b[1;33m,\u001b[0m \u001b[0mfprime\u001b[0m\u001b[1;33m=\u001b[0m\u001b[0mgradFunction\u001b[0m\u001b[1;33m)\u001b[0m\u001b[1;33m\u001b[0m\u001b[0m\n\u001b[0m\u001b[1;32m    118\u001b[0m \u001b[0mtheta\u001b[0m\u001b[1;33m\u001b[0m\u001b[0m\n",
      "\u001b[0;32mC:\\ProgramData\\Anaconda3\\lib\\site-packages\\scipy\\optimize\\optimize.py\u001b[0m in \u001b[0;36mfmin_bfgs\u001b[0;34m(f, x0, fprime, args, gtol, norm, epsilon, maxiter, full_output, disp, retall, callback)\u001b[0m\n\u001b[1;32m    857\u001b[0m             'return_all': retall}\n\u001b[1;32m    858\u001b[0m \u001b[1;33m\u001b[0m\u001b[0m\n\u001b[0;32m--> 859\u001b[0;31m     \u001b[0mres\u001b[0m \u001b[1;33m=\u001b[0m \u001b[0m_minimize_bfgs\u001b[0m\u001b[1;33m(\u001b[0m\u001b[0mf\u001b[0m\u001b[1;33m,\u001b[0m \u001b[0mx0\u001b[0m\u001b[1;33m,\u001b[0m \u001b[0margs\u001b[0m\u001b[1;33m,\u001b[0m \u001b[0mfprime\u001b[0m\u001b[1;33m,\u001b[0m \u001b[0mcallback\u001b[0m\u001b[1;33m=\u001b[0m\u001b[0mcallback\u001b[0m\u001b[1;33m,\u001b[0m \u001b[1;33m**\u001b[0m\u001b[0mopts\u001b[0m\u001b[1;33m)\u001b[0m\u001b[1;33m\u001b[0m\u001b[0m\n\u001b[0m\u001b[1;32m    860\u001b[0m \u001b[1;33m\u001b[0m\u001b[0m\n\u001b[1;32m    861\u001b[0m     \u001b[1;32mif\u001b[0m \u001b[0mfull_output\u001b[0m\u001b[1;33m:\u001b[0m\u001b[1;33m\u001b[0m\u001b[0m\n",
      "\u001b[0;32mC:\\ProgramData\\Anaconda3\\lib\\site-packages\\scipy\\optimize\\optimize.py\u001b[0m in \u001b[0;36m_minimize_bfgs\u001b[0;34m(fun, x0, args, jac, callback, gtol, norm, eps, maxiter, disp, return_all, **unknown_options)\u001b[0m\n\u001b[1;32m    911\u001b[0m     \u001b[1;32melse\u001b[0m\u001b[1;33m:\u001b[0m\u001b[1;33m\u001b[0m\u001b[0m\n\u001b[1;32m    912\u001b[0m         \u001b[0mgrad_calls\u001b[0m\u001b[1;33m,\u001b[0m \u001b[0mmyfprime\u001b[0m \u001b[1;33m=\u001b[0m \u001b[0mwrap_function\u001b[0m\u001b[1;33m(\u001b[0m\u001b[0mfprime\u001b[0m\u001b[1;33m,\u001b[0m \u001b[0margs\u001b[0m\u001b[1;33m)\u001b[0m\u001b[1;33m\u001b[0m\u001b[0m\n\u001b[0;32m--> 913\u001b[0;31m     \u001b[0mgfk\u001b[0m \u001b[1;33m=\u001b[0m \u001b[0mmyfprime\u001b[0m\u001b[1;33m(\u001b[0m\u001b[0mx0\u001b[0m\u001b[1;33m)\u001b[0m\u001b[1;33m\u001b[0m\u001b[0m\n\u001b[0m\u001b[1;32m    914\u001b[0m     \u001b[0mk\u001b[0m \u001b[1;33m=\u001b[0m \u001b[1;36m0\u001b[0m\u001b[1;33m\u001b[0m\u001b[0m\n\u001b[1;32m    915\u001b[0m     \u001b[0mN\u001b[0m \u001b[1;33m=\u001b[0m \u001b[0mlen\u001b[0m\u001b[1;33m(\u001b[0m\u001b[0mx0\u001b[0m\u001b[1;33m)\u001b[0m\u001b[1;33m\u001b[0m\u001b[0m\n",
      "\u001b[0;32mC:\\ProgramData\\Anaconda3\\lib\\site-packages\\scipy\\optimize\\optimize.py\u001b[0m in \u001b[0;36mfunction_wrapper\u001b[0;34m(*wrapper_args)\u001b[0m\n\u001b[1;32m    290\u001b[0m     \u001b[1;32mdef\u001b[0m \u001b[0mfunction_wrapper\u001b[0m\u001b[1;33m(\u001b[0m\u001b[1;33m*\u001b[0m\u001b[0mwrapper_args\u001b[0m\u001b[1;33m)\u001b[0m\u001b[1;33m:\u001b[0m\u001b[1;33m\u001b[0m\u001b[0m\n\u001b[1;32m    291\u001b[0m         \u001b[0mncalls\u001b[0m\u001b[1;33m[\u001b[0m\u001b[1;36m0\u001b[0m\u001b[1;33m]\u001b[0m \u001b[1;33m+=\u001b[0m \u001b[1;36m1\u001b[0m\u001b[1;33m\u001b[0m\u001b[0m\n\u001b[0;32m--> 292\u001b[0;31m         \u001b[1;32mreturn\u001b[0m \u001b[0mfunction\u001b[0m\u001b[1;33m(\u001b[0m\u001b[1;33m*\u001b[0m\u001b[1;33m(\u001b[0m\u001b[0mwrapper_args\u001b[0m \u001b[1;33m+\u001b[0m \u001b[0margs\u001b[0m\u001b[1;33m)\u001b[0m\u001b[1;33m)\u001b[0m\u001b[1;33m\u001b[0m\u001b[0m\n\u001b[0m\u001b[1;32m    293\u001b[0m \u001b[1;33m\u001b[0m\u001b[0m\n\u001b[1;32m    294\u001b[0m     \u001b[1;32mreturn\u001b[0m \u001b[0mncalls\u001b[0m\u001b[1;33m,\u001b[0m \u001b[0mfunction_wrapper\u001b[0m\u001b[1;33m\u001b[0m\u001b[0m\n",
      "\u001b[0;32m<ipython-input-236-cc4c74ec60a2>\u001b[0m in \u001b[0;36mgradFunction\u001b[0;34m(theta, X, y, lam)\u001b[0m\n\u001b[1;32m     79\u001b[0m \u001b[1;31m#             np.transpose(X) *\u001b[0m\u001b[1;33m\u001b[0m\u001b[1;33m\u001b[0m\u001b[0m\n\u001b[1;32m     80\u001b[0m         (\n\u001b[0;32m---> 81\u001b[0;31m             \u001b[0msigmoid\u001b[0m\u001b[1;33m(\u001b[0m\u001b[0mX\u001b[0m\u001b[1;33m*\u001b[0m\u001b[0mtheta\u001b[0m\u001b[1;33m)\u001b[0m\u001b[1;33m\u001b[0m\u001b[0m\n\u001b[0m\u001b[1;32m     82\u001b[0m \u001b[1;31m#             - y\u001b[0m\u001b[1;33m\u001b[0m\u001b[1;33m\u001b[0m\u001b[0m\n\u001b[1;32m     83\u001b[0m         )\n",
      "\u001b[0;32mC:\\ProgramData\\Anaconda3\\lib\\site-packages\\numpy\\matrixlib\\defmatrix.py\u001b[0m in \u001b[0;36m__mul__\u001b[0;34m(self, other)\u001b[0m\n\u001b[1;32m    341\u001b[0m         \u001b[1;32mif\u001b[0m \u001b[0misinstance\u001b[0m\u001b[1;33m(\u001b[0m\u001b[0mother\u001b[0m\u001b[1;33m,\u001b[0m \u001b[1;33m(\u001b[0m\u001b[0mN\u001b[0m\u001b[1;33m.\u001b[0m\u001b[0mndarray\u001b[0m\u001b[1;33m,\u001b[0m \u001b[0mlist\u001b[0m\u001b[1;33m,\u001b[0m \u001b[0mtuple\u001b[0m\u001b[1;33m)\u001b[0m\u001b[1;33m)\u001b[0m \u001b[1;33m:\u001b[0m\u001b[1;33m\u001b[0m\u001b[0m\n\u001b[1;32m    342\u001b[0m             \u001b[1;31m# This promotes 1-D vectors to row vectors\u001b[0m\u001b[1;33m\u001b[0m\u001b[1;33m\u001b[0m\u001b[0m\n\u001b[0;32m--> 343\u001b[0;31m             \u001b[1;32mreturn\u001b[0m \u001b[0mN\u001b[0m\u001b[1;33m.\u001b[0m\u001b[0mdot\u001b[0m\u001b[1;33m(\u001b[0m\u001b[0mself\u001b[0m\u001b[1;33m,\u001b[0m \u001b[0masmatrix\u001b[0m\u001b[1;33m(\u001b[0m\u001b[0mother\u001b[0m\u001b[1;33m)\u001b[0m\u001b[1;33m)\u001b[0m\u001b[1;33m\u001b[0m\u001b[0m\n\u001b[0m\u001b[1;32m    344\u001b[0m         \u001b[1;32mif\u001b[0m \u001b[0misscalar\u001b[0m\u001b[1;33m(\u001b[0m\u001b[0mother\u001b[0m\u001b[1;33m)\u001b[0m \u001b[1;32mor\u001b[0m \u001b[1;32mnot\u001b[0m \u001b[0mhasattr\u001b[0m\u001b[1;33m(\u001b[0m\u001b[0mother\u001b[0m\u001b[1;33m,\u001b[0m \u001b[1;34m'__rmul__'\u001b[0m\u001b[1;33m)\u001b[0m \u001b[1;33m:\u001b[0m\u001b[1;33m\u001b[0m\u001b[0m\n\u001b[1;32m    345\u001b[0m             \u001b[1;32mreturn\u001b[0m \u001b[0mN\u001b[0m\u001b[1;33m.\u001b[0m\u001b[0mdot\u001b[0m\u001b[1;33m(\u001b[0m\u001b[0mself\u001b[0m\u001b[1;33m,\u001b[0m \u001b[0mother\u001b[0m\u001b[1;33m)\u001b[0m\u001b[1;33m\u001b[0m\u001b[0m\n",
      "\u001b[0;31mValueError\u001b[0m: shapes (1,2) and (1,2) not aligned: 2 (dim 1) != 1 (dim 0)"
     ]
    }
   ],
   "source": [
    "import numpy as np;\n",
    "import pandas as pd;\n",
    "from scipy.optimize import fmin_bfgs;\n",
    "\n",
    "\n",
    "        \n",
    "        \n",
    "# trainingDf= pd.read_csv(\"C:/Dinesh/kaggle/titanic/train.csv\", index_col=0, parse_dates=True, nrows = 20);\n",
    "trainingDf= pd.read_csv(\"D:/datasets/titanic-kaggle/train.csv\", index_col=0, parse_dates=True, nrows = 20);\n",
    "\n",
    "listRowsToColumns=[\"Sex\", \"Embarked\"];\n",
    "listRowsToBoolean=[\"Cabin\"];\n",
    "listNonFeatures = [\"Name\", \"Ticket\"];\n",
    "\n",
    "def generateBooleanColumns(df, columns):\n",
    "    for column in columns:\n",
    "            df[column] = -1 * df[column].isnull() + 1\n",
    "    return df;\n",
    "\n",
    "def generateValueColumns(df, columns):\n",
    "    for column in columns:\n",
    "        df = pd.concat([df.drop(column, axis=1), df[column].str.get_dummies()], axis = 1);\n",
    "    return df;\n",
    "\n",
    "def removeNonFeatures(df, columns):\n",
    "    for column in columns:\n",
    "        df = df.drop(column, axis = 1);\n",
    "    return df;\n",
    "    \n",
    "def dataTransform(df, listRowstoColumns, listRowsToBoolean, listNonFeatures):\n",
    "    df1 = generateBooleanColumns(df, listRowsToBoolean);\n",
    "    df2 = removeNonFeatures(df, listNonFeatures);\n",
    "    return generateValueColumns(df2, listRowstoColumns);\n",
    "\n",
    "\n",
    "def costFunction(theta, X, y, lam):\n",
    "  \n",
    "    theta = np.transpose(np.asmatrix(theta));\n",
    "    \n",
    "    m = X.shape[0];\n",
    "    n = X.shape[1];\n",
    "    print(\n",
    "        \"in cost function\",\n",
    "        X.shape,\n",
    "        theta.shape\n",
    "    );\n",
    "    J = (\n",
    "            (\n",
    "                1/m\n",
    "            ) \n",
    "            * np.sum( \n",
    "                        \n",
    "                            (-1*y) \n",
    "                            * np.log(\n",
    "                                    sigmoid(X*theta)\n",
    "                            )\n",
    "                        - \n",
    "                            np.subtract(1, y) \n",
    "                            * np.log(\n",
    "                                1-sigmoid(X*theta)\n",
    "                            )\n",
    "            )  \n",
    "    ) + \\\n",
    "        ( (lam/m) * sum(np.square(np.vstack([0, theta[1:]]))) )\n",
    "    grad = ( (1/m) * (np.transpose(X) * (sigmoid(X*theta) - y)) ) + \\\n",
    "        ( (lam/m) * np.vstack([0, theta[1:]]) );\n",
    "    return J[0][0]#, grad;\n",
    "def gradFunction(theta, X, y, lam):\n",
    "    m = X.shape[0];\n",
    "    n = X.shape[1];\n",
    "    theta = np.ndarray.flatten(np.asmatrix(theta));\n",
    "#     theta = reshape(theta,(len(theta),1))\n",
    "#     print(\n",
    "#         \"in grad function\",\n",
    "#         X.shape\n",
    "#         , theta.shape\n",
    "#     );\n",
    "    \n",
    "    grad = ( (1/m) * (\n",
    "#             np.transpose(X) * \n",
    "        (\n",
    "            sigmoid(X*theta) \n",
    "#             - y\n",
    "        )\n",
    "    ) ) + \\\n",
    "        ( (lam/m) * np.vstack([0, theta[1:]]) );\n",
    "    return grad;\n",
    "    \n",
    "\n",
    "def sigmoid(z):\n",
    "    return 1 / (1 + np.exp(-1 * z));\n",
    "    \n",
    "def logisticRegression(X, theta):\n",
    "    return round(sigmoid(X*theta));\n",
    "\n",
    "trainingDf = dataTransform(trainingDf, listRowsToColumns, listRowsToBoolean, listNonFeatures);   \n",
    "trainingDf = trainingDf.fillna(trainingDf.mean())\n",
    "X = trainingDf.ix[:, trainingDf.columns != 'Survived'].values;\n",
    "y = trainingDf[\"Survived\"].values\n",
    "\n",
    "# predictions = sigmoid(X*theta);\n",
    "X = np.matrix('1 1');\n",
    "# print(X.shape)\n",
    "theta = np.matrix('1;1');\n",
    "# print(theta.shape)\n",
    "lam = 0;\n",
    "y = np.matrix('3');\n",
    "# print(y.shape)\n",
    "# print(sigmoid(X * theta))\n",
    "\n",
    "#J, grad = costFunction(theta, X, y, 1);\n",
    "print (\n",
    "   # grad.flatten().tolist()[0],\n",
    "    #J,\n",
    "  #  grad\n",
    "#     theta\n",
    ");\n",
    "theta = fmin_bfgs(costFunction, theta, maxiter=10, args=(X, y, 1), fprime=gradFunction)\n",
    "theta\n"
   ]
  },
  {
   "cell_type": "code",
   "execution_count": 295,
   "metadata": {
    "collapsed": false
   },
   "outputs": [
    {
     "name": "stdout",
     "output_type": "stream",
     "text": [
      "Optimization terminated successfully.\n",
      "         Current function value: 0.000000\n",
      "         Iterations: 29\n",
      "         Function evaluations: 32\n",
      "         Gradient evaluations: 32\n"
     ]
    },
    {
     "data": {
      "text/plain": [
       "matrix([[ 0.99999998],\n",
       "        [ 0.99999998]])"
      ]
     },
     "execution_count": 295,
     "metadata": {},
     "output_type": "execute_result"
    }
   ],
   "source": [
    "class LogisticRegression:\n",
    "    \n",
    "    def __init__(self, X, y, lam):\n",
    "        self.X = X;\n",
    "        self.y = y;\n",
    "        self.lam = lam;\n",
    "        self.m = X.shape[0];\n",
    "        self.n = X.shape[1];\n",
    "        self.X = self.addIntercept(self.X); # to be checked for documentation\n",
    "        self.theta = self.initializeTheta();\n",
    "        \n",
    "    def initializeTheta(self):\n",
    "        return np.zeros((self.n + 1, 1));\n",
    "    \n",
    "    @staticmethod\n",
    "    def addIntercept(X):\n",
    "        m = X.shape[0];\n",
    "        return np.hstack((np.ones((m,1)), X));\n",
    "        \n",
    "    @staticmethod\n",
    "    def sigmoid(z):\n",
    "        return 1 / (1 + np.exp(-1 * z));\n",
    "\n",
    "    def buildModel(self):\n",
    "        fminOutput = fmin_bfgs(\n",
    "                                            self.costFunction,\n",
    "                                            self.theta,\n",
    "                                            self.gradFunction,\n",
    "                                            disp=True,\n",
    "                                            maxiter=400,\n",
    "                                            full_output = True,\n",
    "                                            retall=True\n",
    "                                        );\n",
    "        opTheta = fminOutput[0];\n",
    "        opTheta = opTheta.reshape((self.n + 1, 1));\n",
    "        return opTheta, fminOutput\n",
    "        \n",
    "    \n",
    "        \n",
    "    def costFunction(self, theta):\n",
    "        \n",
    "        theta = np.reshape(theta,(self.n + 1, 1));\n",
    "        \n",
    "        z = self.X * theta;\n",
    "        h = sigmoid(z);\n",
    "        \n",
    "        J = (\n",
    "                (1/self.m) \n",
    "                * np.sum( \n",
    "                            np.multiply(\n",
    "                                (-1*self.y),\n",
    "                                np.log(h)\n",
    "                            )\n",
    "                            - \n",
    "                            np.multiply(\n",
    "                                np.subtract(1, self.y), \n",
    "                                np.log(1-h)\n",
    "                            )\n",
    "                )  \n",
    "            ) + \\\n",
    "            ( \n",
    "                (self.lam/self.m) \n",
    "                * sum(\n",
    "                    np.square(\n",
    "                        np.vstack(\n",
    "                            [0, theta[1:]]\n",
    "                        )\n",
    "                    )\n",
    "                ) \n",
    "            );\n",
    "        return J;\n",
    "    def gradFunction(self, theta):\n",
    "        \n",
    "#         print (type(theta), theta.shape, theta);\n",
    "        \n",
    "        theta = np.reshape(theta,(self.n + 1, 1));\n",
    "        \n",
    "        z = self.X * theta;\n",
    "        h = sigmoid(z);\n",
    "        \n",
    "#         print(\n",
    "        \n",
    "#             \"h shape\", h.shape,\n",
    "#             \"self.y shape\", self.y.shape,\n",
    "# #             \"y\", y,\n",
    "#             \"h-self.y shape\", (h-self.y).shape,\n",
    "#             \"self.X shape\", (self.X).shape,\n",
    "#             \"self.X t shape\", np.transpose(self.X).shape,\n",
    "            \n",
    "#             \"needed\", np.transpose(self.X) * (h-self.y),\n",
    "            \n",
    "#             self.X,\n",
    "#             theta,\n",
    "#             self.y\n",
    "        \n",
    "#         );\n",
    "        \n",
    "        grad = ( \n",
    "                    (1/self.m) \n",
    "                    * \n",
    "                    (\n",
    "                        np.transpose(self.X)\n",
    "                        * (h - self.y)\n",
    "                    ) \n",
    "                ) + \\\n",
    "                ( \n",
    "                    (self.lam/self.m)\n",
    "                    * \n",
    "                    np.vstack(\n",
    "                        [0, theta[1:]]\n",
    "                    ) \n",
    "                );\n",
    "#         print(\n",
    "#             grad,\n",
    "#             np.asarray(grad).reshape((3,)),\n",
    "#             type(np.asarray(grad))\n",
    "#         )\n",
    "        return np.asarray(grad).reshape((self.n + 1,));\n",
    "sampleX = np.matrix('1 2; 3 4');\n",
    "sampleY = np.matrix('1;1')\n",
    "lgTest = LogisticRegression(sampleX, sampleY, 1);\n",
    "opTheta, fminOutput = lgTest.buildModel();\n",
    "LogisticRegression.sigmoid(LogisticRegression.addIntercept(sampleX) * opTheta)\n",
    "\n",
    "\n",
    "        "
   ]
  },
  {
   "cell_type": "code",
   "execution_count": 235,
   "metadata": {
    "collapsed": false
   },
   "outputs": [
    {
     "data": {
      "text/plain": [
       "matrix([[ 0.],\n",
       "        [ 0.]])"
      ]
     },
     "execution_count": 235,
     "metadata": {},
     "output_type": "execute_result"
    }
   ],
   "source": [
    "X = np.matrix('1 1 2;1 3 4')\n",
    "y = np.matrix('1;1')\n",
    "theta = np.matrix('1;2;3')\n",
    "a= np.subtract(1,y)\n",
    "b = np.log(X*theta)\n",
    "np.multiply(np.subtract(1,y),np.log(X*theta))"
   ]
  },
  {
   "cell_type": "code",
   "execution_count": 161,
   "metadata": {
    "collapsed": false
   },
   "outputs": [
    {
     "name": "stdout",
     "output_type": "stream",
     "text": [
      "18\n"
     ]
    }
   ],
   "source": [
    "def A(x):\n",
    "    return x + 3;\n",
    "def B(x):\n",
    "    return x + 6;\n",
    "def C(x):\n",
    "    return x + 9;\n",
    "print(\n",
    "    A(B(C(0)))\n",
    ");"
   ]
  },
  {
   "cell_type": "code",
   "execution_count": 111,
   "metadata": {
    "collapsed": false
   },
   "outputs": [
    {
     "data": {
      "text/plain": [
       "matrix([[ 0.73105858],\n",
       "        [ 0.88079708],\n",
       "        [ 0.95257413]])"
      ]
     },
     "execution_count": 111,
     "metadata": {},
     "output_type": "execute_result"
    }
   ],
   "source": [
    "A = np.matrix('1 2 3; 3 4 3');\n",
    "def test(A):\n",
    "    return [A, A.shape[0]];\n",
    "b = np.matrix('1;2;3')\n",
    "c= np.matrix([123])\n",
    "c\n",
    "b\n",
    "np.vstack([0, b[1:]])\n",
    "np.subtract(1, b)\n",
    "1/ (1 +np.exp(-1 * b))\n",
    "# print ( 1, 'test')\n",
    "# b[1:]\n"
   ]
  },
  {
   "cell_type": "code",
   "execution_count": 185,
   "metadata": {
    "collapsed": false
   },
   "outputs": [
    {
     "name": "stdout",
     "output_type": "stream",
     "text": [
      "Optimization terminated successfully.\n",
      "         Current function value: -357913945.000000\n",
      "         Iterations: 1\n",
      "         Function evaluations: 48\n",
      "         Gradient evaluations: 16\n",
      "[ -3.57913940e+08]\n"
     ]
    },
    {
     "data": {
      "text/plain": [
       "-357913945.0"
      ]
     },
     "execution_count": 185,
     "metadata": {},
     "output_type": "execute_result"
    }
   ],
   "source": [
    "class test:\n",
    "    def costFunction(self, x):\n",
    "        return x-5;\n",
    "\n",
    "print(fmin_bfgs(test().costFunction, x0 = 1))\n",
    "\n",
    "(-3.57913940e+08) -5\n"
   ]
  },
  {
   "cell_type": "code",
   "execution_count": null,
   "metadata": {
    "collapsed": true
   },
   "outputs": [],
   "source": []
  }
 ],
 "metadata": {
  "kernelspec": {
   "display_name": "Python 3",
   "language": "python",
   "name": "python3"
  },
  "language_info": {
   "codemirror_mode": {
    "name": "ipython",
    "version": 3
   },
   "file_extension": ".py",
   "mimetype": "text/x-python",
   "name": "python",
   "nbconvert_exporter": "python",
   "pygments_lexer": "ipython3",
   "version": "3.6.0"
  }
 },
 "nbformat": 4,
 "nbformat_minor": 2
}
