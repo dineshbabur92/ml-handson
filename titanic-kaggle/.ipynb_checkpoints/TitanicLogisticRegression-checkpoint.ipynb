{
 "cells": [
  {
   "cell_type": "code",
   "execution_count": 2,
   "metadata": {
    "collapsed": false
   },
   "outputs": [],
   "source": [
    "import numpy as np;\n",
    "import pandas as pd;\n",
    "from scipy.optimize import fmin_bfgs;\n",
    "import traceback;\n",
    "\n",
    "class GenTransform:\n",
    "    \n",
    "    def __init__(self):\n",
    "        return;\n",
    "    \n",
    "    @staticmethod\n",
    "    def generateBooleanColumns(df, columns):\n",
    "        for column in columns:\n",
    "                df[column] = -1 * df[column].isnull() + 1\n",
    "        return df;\n",
    "    \n",
    "    @staticmethod\n",
    "    def generateValueColumns(df, columns):\n",
    "        for column in columns:\n",
    "            df = pd.concat([df.drop(column, axis=1), df[column].str.get_dummies()], axis = 1);\n",
    "        return df;\n",
    "    \n",
    "    @staticmethod\n",
    "    def removeNonFeatures(df, columns):\n",
    "        for column in columns:\n",
    "            df = df.drop(column, axis = 1);\n",
    "        return df;\n",
    "    \n",
    "    @staticmethod\n",
    "    def fillNaWithMean(df):\n",
    "        return df.fillna(df.mean());\n",
    "    \n",
    "    @staticmethod\n",
    "    def dataTransform(df, listRowstoColumns, listRowsToBoolean, listNonFeatures):\n",
    "        df1 = GenTransform.generateBooleanColumns(df, listRowsToBoolean);\n",
    "        df2 = GenTransform.removeNonFeatures(df, listNonFeatures);\n",
    "        df3 = GenTransform.generateValueColumns(df2, listRowstoColumns);\n",
    "        df4 = GenTransform.fillNaWithMean(df3);\n",
    "        return(df4);\n"
   ]
  },
  {
   "cell_type": "code",
   "execution_count": 8,
   "metadata": {
    "collapsed": false
   },
   "outputs": [
    {
     "name": "stdout",
     "output_type": "stream",
     "text": [
      "before constructor (891, 1) 891\n",
      "Optimization terminated successfully.\n",
      "         Current function value: 0.436913\n",
      "         Iterations: 80\n",
      "         Function evaluations: 87\n",
      "         Gradient evaluations: 87\n"
     ]
    },
    {
     "name": "stderr",
     "output_type": "stream",
     "text": [
      "C:\\ProgramData\\Anaconda3\\lib\\site-packages\\ipykernel\\__main__.py:63: RuntimeWarning: divide by zero encountered in log\n",
      "C:\\ProgramData\\Anaconda3\\lib\\site-packages\\ipykernel\\__main__.py:63: RuntimeWarning: invalid value encountered in multiply\n"
     ]
    },
    {
     "name": "stdout",
     "output_type": "stream",
     "text": [
      "Warning: Desired error not necessarily achieved due to precision loss.\n",
      "         Current function value: 0.439723\n",
      "         Iterations: 37\n",
      "         Function evaluations: 148\n",
      "         Gradient evaluations: 136\n",
      "Warning: Desired error not necessarily achieved due to precision loss.\n",
      "         Current function value: 0.441963\n",
      "         Iterations: 37\n",
      "         Function evaluations: 132\n",
      "         Gradient evaluations: 120\n",
      "Warning: Desired error not necessarily achieved due to precision loss.\n",
      "         Current function value: 0.444051\n",
      "         Iterations: 38\n",
      "         Function evaluations: 88\n",
      "         Gradient evaluations: 77\n"
     ]
    },
    {
     "name": "stderr",
     "output_type": "stream",
     "text": [
      "C:\\ProgramData\\Anaconda3\\lib\\site-packages\\ipykernel\\__main__.py:63: RuntimeWarning: divide by zero encountered in log\n",
      "C:\\ProgramData\\Anaconda3\\lib\\site-packages\\ipykernel\\__main__.py:63: RuntimeWarning: invalid value encountered in multiply\n",
      "C:\\ProgramData\\Anaconda3\\lib\\site-packages\\ipykernel\\__main__.py:63: RuntimeWarning: divide by zero encountered in log\n",
      "C:\\ProgramData\\Anaconda3\\lib\\site-packages\\ipykernel\\__main__.py:63: RuntimeWarning: invalid value encountered in multiply\n",
      "C:\\ProgramData\\Anaconda3\\lib\\site-packages\\ipykernel\\__main__.py:63: RuntimeWarning: divide by zero encountered in log\n",
      "C:\\ProgramData\\Anaconda3\\lib\\site-packages\\ipykernel\\__main__.py:63: RuntimeWarning: invalid value encountered in multiply\n"
     ]
    },
    {
     "name": "stdout",
     "output_type": "stream",
     "text": [
      "Warning: Desired error not necessarily achieved due to precision loss.\n",
      "         Current function value: 0.446009\n",
      "         Iterations: 37\n",
      "         Function evaluations: 102\n",
      "         Gradient evaluations: 91\n",
      "Warning: Desired error not necessarily achieved due to precision loss.\n",
      "         Current function value: 0.447872\n",
      "         Iterations: 37\n",
      "         Function evaluations: 142\n",
      "         Gradient evaluations: 130\n"
     ]
    },
    {
     "name": "stderr",
     "output_type": "stream",
     "text": [
      "C:\\ProgramData\\Anaconda3\\lib\\site-packages\\ipykernel\\__main__.py:63: RuntimeWarning: divide by zero encountered in log\n",
      "C:\\ProgramData\\Anaconda3\\lib\\site-packages\\ipykernel\\__main__.py:63: RuntimeWarning: invalid value encountered in multiply\n",
      "C:\\ProgramData\\Anaconda3\\lib\\site-packages\\ipykernel\\__main__.py:63: RuntimeWarning: divide by zero encountered in log\n",
      "C:\\ProgramData\\Anaconda3\\lib\\site-packages\\ipykernel\\__main__.py:63: RuntimeWarning: invalid value encountered in multiply\n"
     ]
    },
    {
     "name": "stdout",
     "output_type": "stream",
     "text": [
      "Warning: Desired error not necessarily achieved due to precision loss.\n",
      "         Current function value: 0.449613\n",
      "         Iterations: 37\n",
      "         Function evaluations: 141\n",
      "         Gradient evaluations: 129\n",
      "Warning: Desired error not necessarily achieved due to precision loss.\n",
      "         Current function value: 0.451280\n",
      "         Iterations: 37\n",
      "         Function evaluations: 133\n",
      "         Gradient evaluations: 121\n"
     ]
    },
    {
     "name": "stderr",
     "output_type": "stream",
     "text": [
      "C:\\ProgramData\\Anaconda3\\lib\\site-packages\\ipykernel\\__main__.py:63: RuntimeWarning: divide by zero encountered in log\n",
      "C:\\ProgramData\\Anaconda3\\lib\\site-packages\\ipykernel\\__main__.py:63: RuntimeWarning: invalid value encountered in multiply\n",
      "C:\\ProgramData\\Anaconda3\\lib\\site-packages\\ipykernel\\__main__.py:63: RuntimeWarning: divide by zero encountered in log\n",
      "C:\\ProgramData\\Anaconda3\\lib\\site-packages\\ipykernel\\__main__.py:63: RuntimeWarning: invalid value encountered in multiply\n"
     ]
    },
    {
     "name": "stdout",
     "output_type": "stream",
     "text": [
      "Warning: Desired error not necessarily achieved due to precision loss.\n",
      "         Current function value: 0.452852\n",
      "         Iterations: 38\n",
      "         Function evaluations: 108\n",
      "         Gradient evaluations: 98\n",
      "Warning: Desired error not necessarily achieved due to precision loss.\n",
      "         Current function value: 0.454325\n",
      "         Iterations: 38\n",
      "         Function evaluations: 145\n",
      "         Gradient evaluations: 133\n"
     ]
    },
    {
     "name": "stderr",
     "output_type": "stream",
     "text": [
      "C:\\ProgramData\\Anaconda3\\lib\\site-packages\\ipykernel\\__main__.py:63: RuntimeWarning: divide by zero encountered in log\n",
      "C:\\ProgramData\\Anaconda3\\lib\\site-packages\\ipykernel\\__main__.py:63: RuntimeWarning: invalid value encountered in multiply\n",
      "C:\\ProgramData\\Anaconda3\\lib\\site-packages\\ipykernel\\__main__.py:63: RuntimeWarning: divide by zero encountered in log\n",
      "C:\\ProgramData\\Anaconda3\\lib\\site-packages\\ipykernel\\__main__.py:63: RuntimeWarning: invalid value encountered in multiply\n"
     ]
    },
    {
     "name": "stdout",
     "output_type": "stream",
     "text": [
      "Warning: Desired error not necessarily achieved due to precision loss.\n",
      "         Current function value: 0.452922\n",
      "         Iterations: 59\n",
      "         Function evaluations: 142\n",
      "         Gradient evaluations: 130\n",
      "Warning: Desired error not necessarily achieved due to precision loss.\n",
      "         Current function value: 0.457102\n",
      "         Iterations: 38\n",
      "         Function evaluations: 133\n",
      "         Gradient evaluations: 121\n",
      "Warning: Desired error not necessarily achieved due to precision loss."
     ]
    },
    {
     "name": "stderr",
     "output_type": "stream",
     "text": [
      "C:\\ProgramData\\Anaconda3\\lib\\site-packages\\ipykernel\\__main__.py:63: RuntimeWarning: divide by zero encountered in log\n",
      "C:\\ProgramData\\Anaconda3\\lib\\site-packages\\ipykernel\\__main__.py:63: RuntimeWarning: invalid value encountered in multiply\n",
      "C:\\ProgramData\\Anaconda3\\lib\\site-packages\\ipykernel\\__main__.py:63: RuntimeWarning: divide by zero encountered in log\n",
      "C:\\ProgramData\\Anaconda3\\lib\\site-packages\\ipykernel\\__main__.py:63: RuntimeWarning: invalid value encountered in multiply\n"
     ]
    },
    {
     "name": "stdout",
     "output_type": "stream",
     "text": [
      "\n",
      "         Current function value: 0.458351\n",
      "         Iterations: 40\n",
      "         Function evaluations: 146\n",
      "         Gradient evaluations: 134\n",
      "Warning: Desired error not necessarily achieved due to precision loss.\n",
      "         Current function value: 0.459556\n",
      "         Iterations: 40\n",
      "         Function evaluations: 124\n",
      "         Gradient evaluations: 112\n"
     ]
    },
    {
     "name": "stderr",
     "output_type": "stream",
     "text": [
      "C:\\ProgramData\\Anaconda3\\lib\\site-packages\\ipykernel\\__main__.py:63: RuntimeWarning: divide by zero encountered in log\n",
      "C:\\ProgramData\\Anaconda3\\lib\\site-packages\\ipykernel\\__main__.py:63: RuntimeWarning: invalid value encountered in multiply\n",
      "C:\\ProgramData\\Anaconda3\\lib\\site-packages\\ipykernel\\__main__.py:63: RuntimeWarning: divide by zero encountered in log\n",
      "C:\\ProgramData\\Anaconda3\\lib\\site-packages\\ipykernel\\__main__.py:63: RuntimeWarning: invalid value encountered in multiply\n"
     ]
    },
    {
     "name": "stdout",
     "output_type": "stream",
     "text": [
      "Warning: Desired error not necessarily achieved due to precision loss.\n",
      "         Current function value: 0.458430\n",
      "         Iterations: 57\n",
      "         Function evaluations: 151\n",
      "         Gradient evaluations: 139\n",
      "Warning: Desired error not necessarily achieved due to precision loss.\n",
      "         Current function value: 0.459762\n",
      "         Iterations: 56\n",
      "         Function evaluations: 154\n",
      "         Gradient evaluations: 142\n"
     ]
    },
    {
     "name": "stderr",
     "output_type": "stream",
     "text": [
      "C:\\ProgramData\\Anaconda3\\lib\\site-packages\\ipykernel\\__main__.py:63: RuntimeWarning: divide by zero encountered in log\n",
      "C:\\ProgramData\\Anaconda3\\lib\\site-packages\\ipykernel\\__main__.py:63: RuntimeWarning: invalid value encountered in multiply\n",
      "C:\\ProgramData\\Anaconda3\\lib\\site-packages\\ipykernel\\__main__.py:63: RuntimeWarning: divide by zero encountered in log\n",
      "C:\\ProgramData\\Anaconda3\\lib\\site-packages\\ipykernel\\__main__.py:63: RuntimeWarning: invalid value encountered in multiply\n"
     ]
    },
    {
     "name": "stdout",
     "output_type": "stream",
     "text": [
      "Warning: Desired error not necessarily achieved due to precision loss.\n",
      "         Current function value: 0.462990\n",
      "         Iterations: 41\n",
      "         Function evaluations: 145\n",
      "         Gradient evaluations: 133\n",
      "Warning: Desired error not necessarily achieved due to precision loss.\n",
      "         Current function value: 0.464236\n",
      "         Iterations: 39\n",
      "         Function evaluations: 135\n",
      "         Gradient evaluations: 123\n"
     ]
    },
    {
     "name": "stderr",
     "output_type": "stream",
     "text": [
      "C:\\ProgramData\\Anaconda3\\lib\\site-packages\\ipykernel\\__main__.py:63: RuntimeWarning: divide by zero encountered in log\n",
      "C:\\ProgramData\\Anaconda3\\lib\\site-packages\\ipykernel\\__main__.py:63: RuntimeWarning: invalid value encountered in multiply\n",
      "C:\\ProgramData\\Anaconda3\\lib\\site-packages\\ipykernel\\__main__.py:63: RuntimeWarning: divide by zero encountered in log\n",
      "C:\\ProgramData\\Anaconda3\\lib\\site-packages\\ipykernel\\__main__.py:63: RuntimeWarning: invalid value encountered in multiply\n"
     ]
    },
    {
     "name": "stdout",
     "output_type": "stream",
     "text": [
      "Warning: Desired error not necessarily achieved due to precision loss.\n",
      "         Current function value: 0.463602\n",
      "         Iterations: 55\n",
      "         Function evaluations: 175\n",
      "         Gradient evaluations: 163\n",
      "Warning: Desired error not necessarily achieved due to precision loss.\n",
      "         Current function value: 0.466333\n",
      "         Iterations: 39\n",
      "         Function evaluations: 99\n",
      "         Gradient evaluations: 89\n"
     ]
    },
    {
     "name": "stderr",
     "output_type": "stream",
     "text": [
      "C:\\ProgramData\\Anaconda3\\lib\\site-packages\\ipykernel\\__main__.py:63: RuntimeWarning: divide by zero encountered in log\n",
      "C:\\ProgramData\\Anaconda3\\lib\\site-packages\\ipykernel\\__main__.py:63: RuntimeWarning: invalid value encountered in multiply\n",
      "C:\\ProgramData\\Anaconda3\\lib\\site-packages\\ipykernel\\__main__.py:63: RuntimeWarning: divide by zero encountered in log\n",
      "C:\\ProgramData\\Anaconda3\\lib\\site-packages\\ipykernel\\__main__.py:63: RuntimeWarning: invalid value encountered in multiply\n"
     ]
    },
    {
     "name": "stdout",
     "output_type": "stream",
     "text": [
      "Warning: Desired error not necessarily achieved due to precision loss.\n",
      "         Current function value: 0.466069\n",
      "         Iterations: 56\n",
      "         Function evaluations: 175\n",
      "         Gradient evaluations: 163\n",
      "Warning: Desired error not necessarily achieved due to precision loss.\n",
      "         Current function value: 0.468398\n",
      "         Iterations: 40\n",
      "         Function evaluations: 154\n",
      "         Gradient evaluations: 142\n",
      "Warning: Desired error not necessarily achieved due to precision loss.\n",
      "         Current function value: 0.469395\n",
      "         Iterations: 40\n",
      "         Function evaluations: 107\n",
      "         Gradient evaluations: 96\n"
     ]
    },
    {
     "name": "stderr",
     "output_type": "stream",
     "text": [
      "C:\\ProgramData\\Anaconda3\\lib\\site-packages\\ipykernel\\__main__.py:63: RuntimeWarning: divide by zero encountered in log\n",
      "C:\\ProgramData\\Anaconda3\\lib\\site-packages\\ipykernel\\__main__.py:63: RuntimeWarning: invalid value encountered in multiply\n",
      "C:\\ProgramData\\Anaconda3\\lib\\site-packages\\ipykernel\\__main__.py:63: RuntimeWarning: divide by zero encountered in log\n",
      "C:\\ProgramData\\Anaconda3\\lib\\site-packages\\ipykernel\\__main__.py:63: RuntimeWarning: invalid value encountered in multiply\n",
      "C:\\ProgramData\\Anaconda3\\lib\\site-packages\\ipykernel\\__main__.py:63: RuntimeWarning: divide by zero encountered in log\n",
      "C:\\ProgramData\\Anaconda3\\lib\\site-packages\\ipykernel\\__main__.py:63: RuntimeWarning: invalid value encountered in multiply\n"
     ]
    },
    {
     "name": "stdout",
     "output_type": "stream",
     "text": [
      "Warning: Desired error not necessarily achieved due to precision loss.\n",
      "         Current function value: 0.470303\n",
      "         Iterations: 43\n",
      "         Function evaluations: 133\n",
      "         Gradient evaluations: 121\n",
      "Warning: Desired error not necessarily achieved due to precision loss.\n",
      "         Current function value: 0.471304\n",
      "         Iterations: 43\n",
      "         Function evaluations: 138\n",
      "         Gradient evaluations: 126\n"
     ]
    },
    {
     "name": "stderr",
     "output_type": "stream",
     "text": [
      "C:\\ProgramData\\Anaconda3\\lib\\site-packages\\ipykernel\\__main__.py:63: RuntimeWarning: divide by zero encountered in log\n",
      "C:\\ProgramData\\Anaconda3\\lib\\site-packages\\ipykernel\\__main__.py:63: RuntimeWarning: invalid value encountered in multiply\n",
      "C:\\ProgramData\\Anaconda3\\lib\\site-packages\\ipykernel\\__main__.py:63: RuntimeWarning: divide by zero encountered in log\n",
      "C:\\ProgramData\\Anaconda3\\lib\\site-packages\\ipykernel\\__main__.py:63: RuntimeWarning: invalid value encountered in multiply\n"
     ]
    },
    {
     "name": "stdout",
     "output_type": "stream",
     "text": [
      "Warning: Desired error not necessarily achieved due to precision loss.\n",
      "         Current function value: 0.472413\n",
      "         Iterations: 43\n",
      "         Function evaluations: 104\n",
      "         Gradient evaluations: 92\n",
      "Warning: Desired error not necessarily achieved due to precision loss.\n",
      "         Current function value: 0.473499\n",
      "         Iterations: 40\n",
      "         Function evaluations: 160\n",
      "         Gradient evaluations: 148\n"
     ]
    },
    {
     "name": "stderr",
     "output_type": "stream",
     "text": [
      "C:\\ProgramData\\Anaconda3\\lib\\site-packages\\ipykernel\\__main__.py:63: RuntimeWarning: divide by zero encountered in log\n",
      "C:\\ProgramData\\Anaconda3\\lib\\site-packages\\ipykernel\\__main__.py:63: RuntimeWarning: invalid value encountered in multiply\n",
      "C:\\ProgramData\\Anaconda3\\lib\\site-packages\\ipykernel\\__main__.py:63: RuntimeWarning: divide by zero encountered in log\n",
      "C:\\ProgramData\\Anaconda3\\lib\\site-packages\\ipykernel\\__main__.py:63: RuntimeWarning: invalid value encountered in multiply\n"
     ]
    },
    {
     "name": "stdout",
     "output_type": "stream",
     "text": [
      "Warning: Desired error not necessarily achieved due to precision loss.\n",
      "         Current function value: 0.474386\n",
      "         Iterations: 43\n",
      "         Function evaluations: 103\n",
      "         Gradient evaluations: 91\n",
      "Warning: Desired error not necessarily achieved due to precision loss.\n",
      "         Current function value: 0.475353\n",
      "         Iterations: 42\n",
      "         Function evaluations: 145\n",
      "         Gradient evaluations: 133\n",
      "Warning: Desired error not necessarily achieved due to precision loss.\n",
      "         Current function value: 0.476356\n",
      "         Iterations: 42\n",
      "         Function evaluations: 157\n",
      "         Gradient evaluations: 145\n"
     ]
    },
    {
     "name": "stderr",
     "output_type": "stream",
     "text": [
      "C:\\ProgramData\\Anaconda3\\lib\\site-packages\\ipykernel\\__main__.py:63: RuntimeWarning: divide by zero encountered in log\n",
      "C:\\ProgramData\\Anaconda3\\lib\\site-packages\\ipykernel\\__main__.py:63: RuntimeWarning: invalid value encountered in multiply\n",
      "C:\\ProgramData\\Anaconda3\\lib\\site-packages\\ipykernel\\__main__.py:63: RuntimeWarning: divide by zero encountered in log\n",
      "C:\\ProgramData\\Anaconda3\\lib\\site-packages\\ipykernel\\__main__.py:63: RuntimeWarning: invalid value encountered in multiply\n",
      "C:\\ProgramData\\Anaconda3\\lib\\site-packages\\ipykernel\\__main__.py:63: RuntimeWarning: divide by zero encountered in log\n",
      "C:\\ProgramData\\Anaconda3\\lib\\site-packages\\ipykernel\\__main__.py:63: RuntimeWarning: invalid value encountered in multiply\n"
     ]
    },
    {
     "name": "stdout",
     "output_type": "stream",
     "text": [
      "Warning: Desired error not necessarily achieved due to precision loss.\n",
      "         Current function value: 0.486252\n",
      "         Iterations: 14\n",
      "         Function evaluations: 75\n",
      "         Gradient evaluations: 63\n",
      "Warning: Desired error not necessarily achieved due to precision loss.\n",
      "         Current function value: 0.478193\n",
      "         Iterations: 47\n",
      "         Function evaluations: 173\n",
      "         Gradient evaluations: 161\n"
     ]
    },
    {
     "name": "stderr",
     "output_type": "stream",
     "text": [
      "C:\\ProgramData\\Anaconda3\\lib\\site-packages\\ipykernel\\__main__.py:63: RuntimeWarning: divide by zero encountered in log\n",
      "C:\\ProgramData\\Anaconda3\\lib\\site-packages\\ipykernel\\__main__.py:63: RuntimeWarning: invalid value encountered in multiply\n",
      "C:\\ProgramData\\Anaconda3\\lib\\site-packages\\ipykernel\\__main__.py:63: RuntimeWarning: divide by zero encountered in log\n",
      "C:\\ProgramData\\Anaconda3\\lib\\site-packages\\ipykernel\\__main__.py:63: RuntimeWarning: invalid value encountered in multiply\n"
     ]
    },
    {
     "name": "stdout",
     "output_type": "stream",
     "text": [
      "Warning: Desired error not necessarily achieved due to precision loss.\n",
      "         Current function value: 0.479162\n",
      "         Iterations: 47\n",
      "         Function evaluations: 129\n",
      "         Gradient evaluations: 118\n",
      "Warning: Desired error not necessarily achieved due to precision loss.\n",
      "         Current function value: 0.489034\n",
      "         Iterations: 16\n",
      "         Function evaluations: 68\n",
      "         Gradient evaluations: 56\n",
      "Warning: Desired error not necessarily achieved due to precision loss.\n",
      "         Current function value: 0.481111\n",
      "         Iterations: 49\n",
      "         Function evaluations: 168\n",
      "         Gradient evaluations: 156\n"
     ]
    },
    {
     "name": "stderr",
     "output_type": "stream",
     "text": [
      "C:\\ProgramData\\Anaconda3\\lib\\site-packages\\ipykernel\\__main__.py:63: RuntimeWarning: divide by zero encountered in log\n",
      "C:\\ProgramData\\Anaconda3\\lib\\site-packages\\ipykernel\\__main__.py:63: RuntimeWarning: invalid value encountered in multiply\n",
      "C:\\ProgramData\\Anaconda3\\lib\\site-packages\\ipykernel\\__main__.py:63: RuntimeWarning: divide by zero encountered in log\n",
      "C:\\ProgramData\\Anaconda3\\lib\\site-packages\\ipykernel\\__main__.py:63: RuntimeWarning: invalid value encountered in multiply\n",
      "C:\\ProgramData\\Anaconda3\\lib\\site-packages\\ipykernel\\__main__.py:63: RuntimeWarning: divide by zero encountered in log\n",
      "C:\\ProgramData\\Anaconda3\\lib\\site-packages\\ipykernel\\__main__.py:63: RuntimeWarning: invalid value encountered in multiply\n"
     ]
    },
    {
     "name": "stdout",
     "output_type": "stream",
     "text": [
      "Warning: Desired error not necessarily achieved due to precision loss.\n",
      "         Current function value: 0.482078\n",
      "         Iterations: 48\n",
      "         Function evaluations: 175\n",
      "         Gradient evaluations: 163\n",
      "Warning: Desired error not necessarily achieved due to precision loss.\n",
      "         Current function value: 0.483016\n",
      "         Iterations: 47\n",
      "         Function evaluations: 153\n",
      "         Gradient evaluations: 141\n",
      "Warning: Desired error not necessarily achieved due to precision loss.\n",
      "         Current function value: 0.486600\n",
      "         Iterations: 34\n",
      "         Function evaluations: 119\n",
      "         Gradient evaluations: 108\n"
     ]
    },
    {
     "name": "stderr",
     "output_type": "stream",
     "text": [
      "C:\\ProgramData\\Anaconda3\\lib\\site-packages\\ipykernel\\__main__.py:63: RuntimeWarning: divide by zero encountered in log\n",
      "C:\\ProgramData\\Anaconda3\\lib\\site-packages\\ipykernel\\__main__.py:63: RuntimeWarning: invalid value encountered in multiply\n",
      "C:\\ProgramData\\Anaconda3\\lib\\site-packages\\ipykernel\\__main__.py:63: RuntimeWarning: divide by zero encountered in log\n",
      "C:\\ProgramData\\Anaconda3\\lib\\site-packages\\ipykernel\\__main__.py:63: RuntimeWarning: invalid value encountered in multiply\n",
      "C:\\ProgramData\\Anaconda3\\lib\\site-packages\\ipykernel\\__main__.py:63: RuntimeWarning: divide by zero encountered in log\n",
      "C:\\ProgramData\\Anaconda3\\lib\\site-packages\\ipykernel\\__main__.py:63: RuntimeWarning: invalid value encountered in multiply\n"
     ]
    },
    {
     "name": "stdout",
     "output_type": "stream",
     "text": [
      "Warning: Desired error not necessarily achieved due to precision loss.\n",
      "         Current function value: 0.484939\n",
      "         Iterations: 50\n",
      "         Function evaluations: 187\n",
      "         Gradient evaluations: 175\n",
      "Warning: Desired error not necessarily achieved due to precision loss.\n",
      "         Current function value: 0.494627\n",
      "         Iterations: 16\n",
      "         Function evaluations: 83\n",
      "         Gradient evaluations: 71\n",
      "718 9.9\n",
      "done with writing output\n"
     ]
    },
    {
     "name": "stderr",
     "output_type": "stream",
     "text": [
      "C:\\ProgramData\\Anaconda3\\lib\\site-packages\\ipykernel\\__main__.py:63: RuntimeWarning: divide by zero encountered in log\n",
      "C:\\ProgramData\\Anaconda3\\lib\\site-packages\\ipykernel\\__main__.py:63: RuntimeWarning: invalid value encountered in multiply\n"
     ]
    }
   ],
   "source": [
    "class LogisticRegression:\n",
    "    \n",
    "    def __init__(self, X, y, lam):\n",
    "        self.X = X;\n",
    "#         print(\"in constructor, length of received arguement: \", y.shape)\n",
    "        self.y = y;\n",
    "        self.lam = lam;\n",
    "        self.m = X.shape[0];\n",
    "        self.n = X.shape[1];\n",
    "        self.y = np.reshape(self.y, (self.m,1)); # need to check why this is happening\n",
    "        self.X = LogisticRegression.addIntercept(self.X); # to be checked for documentation for how class name used in constructor\n",
    "        self.theta = self.initializeTheta();\n",
    "#         print(\"constructor\",self.y.shape);\n",
    "        \n",
    "    def initializeTheta(self):\n",
    "        return np.zeros((self.n + 1, 1));\n",
    "    \n",
    "    @staticmethod\n",
    "    def addIntercept(X):\n",
    "        m = X.shape[0];\n",
    "        X = np.hstack((np.ones((m,1)), X));\n",
    "        return X;\n",
    "        \n",
    "    @staticmethod\n",
    "    def sigmoid(z):\n",
    "        return 1 / (1 + np.exp(-1 * z));\n",
    "\n",
    "    def buildModel(self):\n",
    "        \n",
    "        fminOutput = fmin_bfgs(\n",
    "                            self.costFunction,\n",
    "                            self.theta,\n",
    "                            self.gradFunction,\n",
    "                            disp=True,\n",
    "                            maxiter=400,\n",
    "                            full_output = True,\n",
    "                            retall=True\n",
    "                        );\n",
    "        opTheta = fminOutput[0];\n",
    "        opTheta = opTheta.reshape((self.n + 1, 1));\n",
    "        return opTheta, fminOutput\n",
    "        \n",
    "    \n",
    "        \n",
    "    def costFunction(self, theta):\n",
    "        \n",
    "        theta = np.reshape(theta,(self.n + 1, 1));\n",
    "        \n",
    "        z = np.dot(self.X, theta);\n",
    "        h = LogisticRegression.sigmoid(z);\n",
    "#         print(\"cost function before\",self.y.shape);\n",
    "        J = np.add(\n",
    "                np.multiply(\n",
    "                    (1/self.m) \n",
    "                    , np.sum( \n",
    "                            np.subtract(\n",
    "                                np.multiply(\n",
    "                                    np.multiply(-1, self.y),\n",
    "                                    np.log(h)\n",
    "                                )\n",
    "                                , np.multiply(\n",
    "                                    np.subtract(1, self.y), \n",
    "                                    np.log(np.subtract(1, h))\n",
    "                                )\n",
    "                            )\n",
    "                        )\n",
    "                   )  \n",
    "                , np.multiply(\n",
    "                    (self.lam/self.m) \n",
    "                    , np.sum(\n",
    "                        np.square(\n",
    "                            np.vstack(\n",
    "                                [0, theta[1:]]\n",
    "                            )\n",
    "                        )\n",
    "                    ) \n",
    "                )\n",
    "        );\n",
    "#         print(\"cost function after\",self.y.shape);\n",
    "        return J;\n",
    "    \n",
    "    def gradFunction(self, theta):\n",
    "        \n",
    "#         print(\"grad function before\",self.y.shape);\n",
    "        theta = np.reshape(theta,(self.n + 1, 1));\n",
    "        \n",
    "#         print(\"grad function after reshaping\",self.y.shape);\n",
    "        z = np.dot(self.X, theta);\n",
    "        h = LogisticRegression.sigmoid(z);\n",
    "        \n",
    "        grad = ( \n",
    "                    np.multiply(\n",
    "                        (1/self.m) \n",
    "                        , (\n",
    "                           np.dot(\n",
    "                               np.transpose(self.X)\n",
    "                                ,np.subtract(h, self.y)\n",
    "                           )\n",
    "                        )\n",
    "                    )\n",
    "                ) + \\\n",
    "                ( \n",
    "                    np.multiply(\n",
    "                        (self.lam/self.m)\n",
    "                        , np.vstack(\n",
    "                            [0, theta[1:]]\n",
    "                        )\n",
    "                    )\n",
    "                );\n",
    "#         print(\"grad function after function formula\",self.y.shape);\n",
    "        grad = np.asarray(grad).reshape((self.n + 1,));\n",
    "#         print(\"grad function after function formula and reshaping\",self.y.shape);\n",
    "        return grad;\n",
    "    \n",
    "    \n",
    "# sampleX = np.matrix('1 2; 3 4; 5 6; 7 8');\n",
    "# sampleY = np.matrix('1;0;0;1')\n",
    "# lgTest = LogisticRegression(sampleX, sampleY, 1);\n",
    "# try:\n",
    "#     opTheta, fminOutput = lgTest.buildModel();\n",
    "# except(e):\n",
    "#     print(e);\n",
    "# LogisticRegression.sigmoid(LogisticRegression.addIntercept(sampleX) * opTheta)\n",
    "\n",
    "\n",
    "listRowsToColumns=[\"Sex\", \"Embarked\"];\n",
    "listRowsToBoolean=[\"Cabin\"];\n",
    "listNonFeatures = [\"Name\", \"Ticket\"];\n",
    "\n",
    "\n",
    "# trainingDf= pd.read_csv(\"C:/Dinesh/kaggle/titanic/train.csv\", index_col=0, parse_dates=True, nrows = 20);\n",
    "trainingDf= pd.read_csv(\"D:/datasets/titanic-kaggle/train.csv\", index_col=0, parse_dates=True);\n",
    "trainingDf = GenTransform.dataTransform(trainingDf, listRowsToColumns, listRowsToBoolean, listNonFeatures);   \n",
    "\n",
    "\n",
    "trainingX = np.matrix(trainingDf.ix[:, trainingDf.columns != 'Survived'].values);\n",
    "trainingY = np.transpose(np.matrix(trainingDf[\"Survived\"].values));\n",
    "print(\"before constructor\",trainingY.shape, len(trainingY));\n",
    "# try:\n",
    "maxAcc = 0;\n",
    "for lam in range(0,120,3):\n",
    "    lrIns = LogisticRegression(trainingX, trainingY, float(lam)/10.0);\n",
    "    theta, fminOutput = lrIns.buildModel();\n",
    "    predictedY = np.round(LogisticRegression.sigmoid(np.dot(LogisticRegression.addIntercept(trainingX),theta)));\n",
    "    currAcc = np.count_nonzero(trainingY == predictedY)\n",
    "    if(currAcc>maxAcc):\n",
    "        opLam = lam;\n",
    "        opTheta = theta;\n",
    "        maxAcc = currAcc;\n",
    "print(maxAcc, float(opLam)/10.0);\n",
    "\n",
    "testDf= pd.read_csv(\"D:/datasets/titanic-kaggle/test.csv\", index_col=0, parse_dates=True);\n",
    "testDf = GenTransform.dataTransform(testDf, listRowsToColumns, listRowsToBoolean, listNonFeatures); \n",
    "testX = np.matrix(testDf.ix[:, testDf.columns != 'Survived'].values);\n",
    "\n",
    "predictedY = np.rint(LogisticRegression.sigmoid(np.dot(LogisticRegression.addIntercept(testX),opTheta)));\n",
    "# currAcc = np.count_nonzero(trainingY == predictedY)\n",
    "np.savetxt('D:/datasets/titanic-kaggle/predictedY.csv', predictedY.astype(int), fmt='%i', delimiter=\",\");\n",
    "print(\"done with writing output\");\n",
    "    \n",
    "# except:\n",
    "#     traceback.print_exc();\n",
    "#     pass;\n",
    "\n"
   ]
  },
  {
   "cell_type": "code",
   "execution_count": 227,
   "metadata": {
    "collapsed": false
   },
   "outputs": [],
   "source": [
    "import re\n",
    "reviewsDf= pd.read_csv(\"D:/Codes/dhana_sister_fyp/review-sentiment-analysis/sentiment analyzer/reviews_sister.csv\", index_col=0, parse_dates=True, nrows= 10);"
   ]
  },
  {
   "cell_type": "code",
   "execution_count": 228,
   "metadata": {
    "collapsed": false
   },
   "outputs": [],
   "source": [
    "wordFreq = dict();\n",
    "stopWords = [\"a\",\"about\",\"above\",\"after\",\"again\",\"against\",\"all\",\"am\",\"an\",\"and\",\"any\",\"are\",\"as\",\"at\",\n",
    "\"be\",\"because\",\"been\",\"before\",\"being\",\"below\",\"between\",\"both\",\"but\",\"by\",\"could\",\"did\",\n",
    "\"do\",\"does\",\"doing\",\"down\",\"during\",\"each\",\"few\",\"for\",\"from\",\"further\",\"had\",\"has\",\"have\",\n",
    "\"having\",\"he\",\"he'd\",\"he'll\",\"he's\",\"her\",\"here\",\"here's\",\"hers\",\"herself\",\"him\",\"himself\",\n",
    "\"his\",\"how\",\"how's\",\"i\",\"i'd\",\"i'll\",\"i'm\",\"i've\",\"if\",\"in\",\"into\",\"is\",\"it\",\"it's\",\"its\",\n",
    "\"itself\",\"let's\",\"me\",\"more\",\"most\",\"my\",\"myself\",\"of\",\"off\",\"on\",\"once\",\"only\",\"or\",\"other\",\n",
    "\"ought\",\"our\",\"ours\",\"ourselves\",\"out\",\"over\",\"own\",\"same\",\"she\",\"she'd\",\"she'll\",\"she's\",\n",
    "\"should\",\"so\",\"some\",\"such\",\"than\",\"that\",\"that's\",\"the\",\"their\",\"theirs\",\"them\",\"themselves\",\n",
    "\"then\",\"there\",\"there's\",\"these\",\"they\",\"they'd\",\"they'll\",\"they're\",\"they've\",\"this\",\"those\",\n",
    "\"through\",\"to\",\"too\",\"under\",\"until\",\"up\",\"very\",\"was\",\"we\",\"we'd\",\"we'll\",\"we're\",\"we've\",\n",
    "\"were\",\"what\",\"what's\",\"when\",\"when's\",\"where\",\"where's\",\"which\",\"while\",\"who\",\"who's\",\"whom\",\n",
    "\"why\",\"why's\",\"with\",\"would\",\"you\",\"you'd\",\"you'll\",\"you're\",\"you've\",\"your\",\"yours\",\"yourself\",\n",
    "\"yourselves\"];\n",
    "reviews = reviewsDf.values[:,1];\n",
    "words = [];\n",
    "for review in reviews:\n",
    "    review = re.sub('[^0-9a-zA-Z ]+', '', review);\n",
    "    reviewWords = review.lower().strip().split(\" \");\n",
    "    for word in reviewWords:\n",
    "        if(not word in stopWords):\n",
    "            if(not word in wordFreq):\n",
    "                wordFreq[word] = 1;\n",
    "                words.append(word);\n",
    "                \n",
    "            else:\n",
    "                wordFreq[word] += 1;\n",
    "wordFreq.pop('', None);\n",
    "if '' in words: words.remove('');\n",
    "wordFreq = sorted(wordFreq.items(), key=lambda x:x[1], reverse = True);\n",
    "count = 0;\n",
    "for key in wordFreq:\n",
    "    if key in words: words.remove(key);\n",
    "    count = count + 1;\n",
    "    if(count==100):\n",
    "        break;"
   ]
  },
  {
   "cell_type": "code",
   "execution_count": 229,
   "metadata": {
    "collapsed": false
   },
   "outputs": [
    {
     "ename": "KeyError",
     "evalue": "'positive'",
     "output_type": "error",
     "traceback": [
      "\u001b[0;31m---------------------------------------------------------------------------\u001b[0m",
      "\u001b[0;31mKeyError\u001b[0m                                  Traceback (most recent call last)",
      "\u001b[0;32mC:\\ProgramData\\Anaconda3\\lib\\site-packages\\pandas\\indexes\\base.py\u001b[0m in \u001b[0;36mget_loc\u001b[0;34m(self, key, method, tolerance)\u001b[0m\n\u001b[1;32m   2133\u001b[0m             \u001b[1;32mtry\u001b[0m\u001b[1;33m:\u001b[0m\u001b[1;33m\u001b[0m\u001b[0m\n\u001b[0;32m-> 2134\u001b[0;31m                 \u001b[1;32mreturn\u001b[0m \u001b[0mself\u001b[0m\u001b[1;33m.\u001b[0m\u001b[0m_engine\u001b[0m\u001b[1;33m.\u001b[0m\u001b[0mget_loc\u001b[0m\u001b[1;33m(\u001b[0m\u001b[0mkey\u001b[0m\u001b[1;33m)\u001b[0m\u001b[1;33m\u001b[0m\u001b[0m\n\u001b[0m\u001b[1;32m   2135\u001b[0m             \u001b[1;32mexcept\u001b[0m \u001b[0mKeyError\u001b[0m\u001b[1;33m:\u001b[0m\u001b[1;33m\u001b[0m\u001b[0m\n",
      "\u001b[0;32mpandas\\index.pyx\u001b[0m in \u001b[0;36mpandas.index.IndexEngine.get_loc (pandas\\index.c:4433)\u001b[0;34m()\u001b[0m\n",
      "\u001b[0;32mpandas\\index.pyx\u001b[0m in \u001b[0;36mpandas.index.IndexEngine.get_loc (pandas\\index.c:4279)\u001b[0;34m()\u001b[0m\n",
      "\u001b[0;32mpandas\\src\\hashtable_class_helper.pxi\u001b[0m in \u001b[0;36mpandas.hashtable.PyObjectHashTable.get_item (pandas\\hashtable.c:13742)\u001b[0;34m()\u001b[0m\n",
      "\u001b[0;32mpandas\\src\\hashtable_class_helper.pxi\u001b[0m in \u001b[0;36mpandas.hashtable.PyObjectHashTable.get_item (pandas\\hashtable.c:13696)\u001b[0;34m()\u001b[0m\n",
      "\u001b[0;31mKeyError\u001b[0m: 'positive'",
      "\nDuring handling of the above exception, another exception occurred:\n",
      "\u001b[0;31mKeyError\u001b[0m                                  Traceback (most recent call last)",
      "\u001b[0;32m<ipython-input-229-42561e70a2ed>\u001b[0m in \u001b[0;36m<module>\u001b[0;34m()\u001b[0m\n\u001b[1;32m      7\u001b[0m \u001b[0mi\u001b[0m \u001b[1;33m=\u001b[0m\u001b[1;36m0\u001b[0m\u001b[1;33m;\u001b[0m\u001b[1;33m\u001b[0m\u001b[0m\n\u001b[1;32m      8\u001b[0m \u001b[1;32mfor\u001b[0m \u001b[0msentiment\u001b[0m \u001b[1;32min\u001b[0m \u001b[0msentiments\u001b[0m\u001b[1;33m:\u001b[0m\u001b[1;33m\u001b[0m\u001b[0m\n\u001b[0;32m----> 9\u001b[0;31m     \u001b[0mreviewsy\u001b[0m \u001b[1;33m=\u001b[0m \u001b[0mnp\u001b[0m\u001b[1;33m.\u001b[0m\u001b[0mtranspose\u001b[0m\u001b[1;33m(\u001b[0m\u001b[0mnp\u001b[0m\u001b[1;33m.\u001b[0m\u001b[0mmatrix\u001b[0m\u001b[1;33m(\u001b[0m\u001b[0mreviewsDf\u001b[0m\u001b[1;33m[\u001b[0m\u001b[0msentiment\u001b[0m\u001b[1;33m]\u001b[0m\u001b[1;33m)\u001b[0m\u001b[1;33m)\u001b[0m\u001b[1;33m;\u001b[0m\u001b[1;33m\u001b[0m\u001b[0m\n\u001b[0m\u001b[1;32m     10\u001b[0m     \u001b[0mreviewLrIns\u001b[0m \u001b[1;33m=\u001b[0m \u001b[0mLogisticRegression\u001b[0m\u001b[1;33m(\u001b[0m\u001b[0mreviewsX\u001b[0m\u001b[1;33m,\u001b[0m \u001b[0mreviewsy\u001b[0m\u001b[1;33m,\u001b[0m \u001b[1;36m0.5\u001b[0m\u001b[1;33m)\u001b[0m\u001b[1;33m;\u001b[0m\u001b[1;33m\u001b[0m\u001b[0m\n\u001b[1;32m     11\u001b[0m     \u001b[0mtheta\u001b[0m\u001b[1;33m,\u001b[0m \u001b[0mfminOutput\u001b[0m \u001b[1;33m=\u001b[0m \u001b[0mreviewLrIns\u001b[0m\u001b[1;33m.\u001b[0m\u001b[0mbuildModel\u001b[0m\u001b[1;33m(\u001b[0m\u001b[1;33m)\u001b[0m\u001b[1;33m;\u001b[0m\u001b[1;33m\u001b[0m\u001b[0m\n",
      "\u001b[0;32mC:\\ProgramData\\Anaconda3\\lib\\site-packages\\pandas\\core\\frame.py\u001b[0m in \u001b[0;36m__getitem__\u001b[0;34m(self, key)\u001b[0m\n\u001b[1;32m   2057\u001b[0m             \u001b[1;32mreturn\u001b[0m \u001b[0mself\u001b[0m\u001b[1;33m.\u001b[0m\u001b[0m_getitem_multilevel\u001b[0m\u001b[1;33m(\u001b[0m\u001b[0mkey\u001b[0m\u001b[1;33m)\u001b[0m\u001b[1;33m\u001b[0m\u001b[0m\n\u001b[1;32m   2058\u001b[0m         \u001b[1;32melse\u001b[0m\u001b[1;33m:\u001b[0m\u001b[1;33m\u001b[0m\u001b[0m\n\u001b[0;32m-> 2059\u001b[0;31m             \u001b[1;32mreturn\u001b[0m \u001b[0mself\u001b[0m\u001b[1;33m.\u001b[0m\u001b[0m_getitem_column\u001b[0m\u001b[1;33m(\u001b[0m\u001b[0mkey\u001b[0m\u001b[1;33m)\u001b[0m\u001b[1;33m\u001b[0m\u001b[0m\n\u001b[0m\u001b[1;32m   2060\u001b[0m \u001b[1;33m\u001b[0m\u001b[0m\n\u001b[1;32m   2061\u001b[0m     \u001b[1;32mdef\u001b[0m \u001b[0m_getitem_column\u001b[0m\u001b[1;33m(\u001b[0m\u001b[0mself\u001b[0m\u001b[1;33m,\u001b[0m \u001b[0mkey\u001b[0m\u001b[1;33m)\u001b[0m\u001b[1;33m:\u001b[0m\u001b[1;33m\u001b[0m\u001b[0m\n",
      "\u001b[0;32mC:\\ProgramData\\Anaconda3\\lib\\site-packages\\pandas\\core\\frame.py\u001b[0m in \u001b[0;36m_getitem_column\u001b[0;34m(self, key)\u001b[0m\n\u001b[1;32m   2064\u001b[0m         \u001b[1;31m# get column\u001b[0m\u001b[1;33m\u001b[0m\u001b[1;33m\u001b[0m\u001b[0m\n\u001b[1;32m   2065\u001b[0m         \u001b[1;32mif\u001b[0m \u001b[0mself\u001b[0m\u001b[1;33m.\u001b[0m\u001b[0mcolumns\u001b[0m\u001b[1;33m.\u001b[0m\u001b[0mis_unique\u001b[0m\u001b[1;33m:\u001b[0m\u001b[1;33m\u001b[0m\u001b[0m\n\u001b[0;32m-> 2066\u001b[0;31m             \u001b[1;32mreturn\u001b[0m \u001b[0mself\u001b[0m\u001b[1;33m.\u001b[0m\u001b[0m_get_item_cache\u001b[0m\u001b[1;33m(\u001b[0m\u001b[0mkey\u001b[0m\u001b[1;33m)\u001b[0m\u001b[1;33m\u001b[0m\u001b[0m\n\u001b[0m\u001b[1;32m   2067\u001b[0m \u001b[1;33m\u001b[0m\u001b[0m\n\u001b[1;32m   2068\u001b[0m         \u001b[1;31m# duplicate columns & possible reduce dimensionality\u001b[0m\u001b[1;33m\u001b[0m\u001b[1;33m\u001b[0m\u001b[0m\n",
      "\u001b[0;32mC:\\ProgramData\\Anaconda3\\lib\\site-packages\\pandas\\core\\generic.py\u001b[0m in \u001b[0;36m_get_item_cache\u001b[0;34m(self, item)\u001b[0m\n\u001b[1;32m   1384\u001b[0m         \u001b[0mres\u001b[0m \u001b[1;33m=\u001b[0m \u001b[0mcache\u001b[0m\u001b[1;33m.\u001b[0m\u001b[0mget\u001b[0m\u001b[1;33m(\u001b[0m\u001b[0mitem\u001b[0m\u001b[1;33m)\u001b[0m\u001b[1;33m\u001b[0m\u001b[0m\n\u001b[1;32m   1385\u001b[0m         \u001b[1;32mif\u001b[0m \u001b[0mres\u001b[0m \u001b[1;32mis\u001b[0m \u001b[1;32mNone\u001b[0m\u001b[1;33m:\u001b[0m\u001b[1;33m\u001b[0m\u001b[0m\n\u001b[0;32m-> 1386\u001b[0;31m             \u001b[0mvalues\u001b[0m \u001b[1;33m=\u001b[0m \u001b[0mself\u001b[0m\u001b[1;33m.\u001b[0m\u001b[0m_data\u001b[0m\u001b[1;33m.\u001b[0m\u001b[0mget\u001b[0m\u001b[1;33m(\u001b[0m\u001b[0mitem\u001b[0m\u001b[1;33m)\u001b[0m\u001b[1;33m\u001b[0m\u001b[0m\n\u001b[0m\u001b[1;32m   1387\u001b[0m             \u001b[0mres\u001b[0m \u001b[1;33m=\u001b[0m \u001b[0mself\u001b[0m\u001b[1;33m.\u001b[0m\u001b[0m_box_item_values\u001b[0m\u001b[1;33m(\u001b[0m\u001b[0mitem\u001b[0m\u001b[1;33m,\u001b[0m \u001b[0mvalues\u001b[0m\u001b[1;33m)\u001b[0m\u001b[1;33m\u001b[0m\u001b[0m\n\u001b[1;32m   1388\u001b[0m             \u001b[0mcache\u001b[0m\u001b[1;33m[\u001b[0m\u001b[0mitem\u001b[0m\u001b[1;33m]\u001b[0m \u001b[1;33m=\u001b[0m \u001b[0mres\u001b[0m\u001b[1;33m\u001b[0m\u001b[0m\n",
      "\u001b[0;32mC:\\ProgramData\\Anaconda3\\lib\\site-packages\\pandas\\core\\internals.py\u001b[0m in \u001b[0;36mget\u001b[0;34m(self, item, fastpath)\u001b[0m\n\u001b[1;32m   3541\u001b[0m \u001b[1;33m\u001b[0m\u001b[0m\n\u001b[1;32m   3542\u001b[0m             \u001b[1;32mif\u001b[0m \u001b[1;32mnot\u001b[0m \u001b[0misnull\u001b[0m\u001b[1;33m(\u001b[0m\u001b[0mitem\u001b[0m\u001b[1;33m)\u001b[0m\u001b[1;33m:\u001b[0m\u001b[1;33m\u001b[0m\u001b[0m\n\u001b[0;32m-> 3543\u001b[0;31m                 \u001b[0mloc\u001b[0m \u001b[1;33m=\u001b[0m \u001b[0mself\u001b[0m\u001b[1;33m.\u001b[0m\u001b[0mitems\u001b[0m\u001b[1;33m.\u001b[0m\u001b[0mget_loc\u001b[0m\u001b[1;33m(\u001b[0m\u001b[0mitem\u001b[0m\u001b[1;33m)\u001b[0m\u001b[1;33m\u001b[0m\u001b[0m\n\u001b[0m\u001b[1;32m   3544\u001b[0m             \u001b[1;32melse\u001b[0m\u001b[1;33m:\u001b[0m\u001b[1;33m\u001b[0m\u001b[0m\n\u001b[1;32m   3545\u001b[0m                 \u001b[0mindexer\u001b[0m \u001b[1;33m=\u001b[0m \u001b[0mnp\u001b[0m\u001b[1;33m.\u001b[0m\u001b[0marange\u001b[0m\u001b[1;33m(\u001b[0m\u001b[0mlen\u001b[0m\u001b[1;33m(\u001b[0m\u001b[0mself\u001b[0m\u001b[1;33m.\u001b[0m\u001b[0mitems\u001b[0m\u001b[1;33m)\u001b[0m\u001b[1;33m)\u001b[0m\u001b[1;33m[\u001b[0m\u001b[0misnull\u001b[0m\u001b[1;33m(\u001b[0m\u001b[0mself\u001b[0m\u001b[1;33m.\u001b[0m\u001b[0mitems\u001b[0m\u001b[1;33m)\u001b[0m\u001b[1;33m]\u001b[0m\u001b[1;33m\u001b[0m\u001b[0m\n",
      "\u001b[0;32mC:\\ProgramData\\Anaconda3\\lib\\site-packages\\pandas\\indexes\\base.py\u001b[0m in \u001b[0;36mget_loc\u001b[0;34m(self, key, method, tolerance)\u001b[0m\n\u001b[1;32m   2134\u001b[0m                 \u001b[1;32mreturn\u001b[0m \u001b[0mself\u001b[0m\u001b[1;33m.\u001b[0m\u001b[0m_engine\u001b[0m\u001b[1;33m.\u001b[0m\u001b[0mget_loc\u001b[0m\u001b[1;33m(\u001b[0m\u001b[0mkey\u001b[0m\u001b[1;33m)\u001b[0m\u001b[1;33m\u001b[0m\u001b[0m\n\u001b[1;32m   2135\u001b[0m             \u001b[1;32mexcept\u001b[0m \u001b[0mKeyError\u001b[0m\u001b[1;33m:\u001b[0m\u001b[1;33m\u001b[0m\u001b[0m\n\u001b[0;32m-> 2136\u001b[0;31m                 \u001b[1;32mreturn\u001b[0m \u001b[0mself\u001b[0m\u001b[1;33m.\u001b[0m\u001b[0m_engine\u001b[0m\u001b[1;33m.\u001b[0m\u001b[0mget_loc\u001b[0m\u001b[1;33m(\u001b[0m\u001b[0mself\u001b[0m\u001b[1;33m.\u001b[0m\u001b[0m_maybe_cast_indexer\u001b[0m\u001b[1;33m(\u001b[0m\u001b[0mkey\u001b[0m\u001b[1;33m)\u001b[0m\u001b[1;33m)\u001b[0m\u001b[1;33m\u001b[0m\u001b[0m\n\u001b[0m\u001b[1;32m   2137\u001b[0m \u001b[1;33m\u001b[0m\u001b[0m\n\u001b[1;32m   2138\u001b[0m         \u001b[0mindexer\u001b[0m \u001b[1;33m=\u001b[0m \u001b[0mself\u001b[0m\u001b[1;33m.\u001b[0m\u001b[0mget_indexer\u001b[0m\u001b[1;33m(\u001b[0m\u001b[1;33m[\u001b[0m\u001b[0mkey\u001b[0m\u001b[1;33m]\u001b[0m\u001b[1;33m,\u001b[0m \u001b[0mmethod\u001b[0m\u001b[1;33m=\u001b[0m\u001b[0mmethod\u001b[0m\u001b[1;33m,\u001b[0m \u001b[0mtolerance\u001b[0m\u001b[1;33m=\u001b[0m\u001b[0mtolerance\u001b[0m\u001b[1;33m)\u001b[0m\u001b[1;33m\u001b[0m\u001b[0m\n",
      "\u001b[0;32mpandas\\index.pyx\u001b[0m in \u001b[0;36mpandas.index.IndexEngine.get_loc (pandas\\index.c:4433)\u001b[0;34m()\u001b[0m\n",
      "\u001b[0;32mpandas\\index.pyx\u001b[0m in \u001b[0;36mpandas.index.IndexEngine.get_loc (pandas\\index.c:4279)\u001b[0;34m()\u001b[0m\n",
      "\u001b[0;32mpandas\\src\\hashtable_class_helper.pxi\u001b[0m in \u001b[0;36mpandas.hashtable.PyObjectHashTable.get_item (pandas\\hashtable.c:13742)\u001b[0;34m()\u001b[0m\n",
      "\u001b[0;32mpandas\\src\\hashtable_class_helper.pxi\u001b[0m in \u001b[0;36mpandas.hashtable.PyObjectHashTable.get_item (pandas\\hashtable.c:13696)\u001b[0;34m()\u001b[0m\n",
      "\u001b[0;31mKeyError\u001b[0m: 'positive'"
     ]
    }
   ],
   "source": [
    "for word in words:\n",
    "    reviewsDf[\"is_\" + word] = reviewsDf[\"Review\"].str.contains(word) * 1\n",
    "reviewsXColumns = [col for col in reviewsDf.columns if col not in ['positive', 'negative', 'neutral', 'ProductName', 'Review']]\n",
    "reviewsX = np.matrix(reviewsDf[reviewsXColumns]);\n",
    "sentiments = [\"positive\", \"negative\", \"neutral\"];\n",
    "predictionsSentiment = np.ones((len(reviewsDf.index),1)) * -1;\n",
    "i =0;\n",
    "for sentiment in sentiments:\n",
    "    reviewsy = np.transpose(np.matrix(reviewsDf[sentiment]));\n",
    "    reviewLrIns = LogisticRegression(reviewsX, reviewsy, 0.5);\n",
    "    theta, fminOutput = reviewLrIns.buildModel();\n",
    "    predictedY = np.round(LogisticRegression.sigmoid(np.dot(LogisticRegression.addIntercept(reviewsX),theta)));\n",
    "    predictionsSentiment = np.hstack([predictionsSentiment, predictedY]);\n",
    "    i = i+1;\n",
    "sentimentIndices = np.subtract(np.argmax(predictionsSentiment, axis = 1), 1).flatten().tolist()[0]\n",
    "predictedSentiments = [];\n",
    "for i in sentimentIndices:\n",
    "    predictedSentiments.append(sentiments[i]);\n",
    "finalPredictedSentiments = pd.DataFrame(np.transpose(np.matrix(predictedSentiments)));\n",
    "finalPredictedSentiments.to_csv(\"D:/Codes/dhana_sister_fyp/review-sentiment-analysis/sentiment analyzer/finalPredictedSentiments.csv\",\n",
    "                                sep=',');\n",
    "\n"
   ]
  }
 ],
 "metadata": {
  "kernelspec": {
   "display_name": "Python 3",
   "language": "python",
   "name": "python3"
  },
  "language_info": {
   "codemirror_mode": {
    "name": "ipython",
    "version": 3
   },
   "file_extension": ".py",
   "mimetype": "text/x-python",
   "name": "python",
   "nbconvert_exporter": "python",
   "pygments_lexer": "ipython3",
   "version": "3.6.0"
  }
 },
 "nbformat": 4,
 "nbformat_minor": 2
}
