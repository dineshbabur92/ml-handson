{
 "cells": [
  {
   "cell_type": "code",
   "execution_count": 89,
   "metadata": {
    "collapsed": false
   },
   "outputs": [
    {
     "name": "stdout",
     "output_type": "stream",
     "text": [
      "\n",
      "(1, 2) (2,)\n"
     ]
    },
    {
     "ename": "ValueError",
     "evalue": "shapes (1,2) and (1,2) not aligned: 2 (dim 1) != 1 (dim 0)",
     "output_type": "error",
     "traceback": [
      "\u001b[0;31m---------------------------------------------------------------------------\u001b[0m",
      "\u001b[0;31mValueError\u001b[0m                                Traceback (most recent call last)",
      "\u001b[0;32m<ipython-input-89-d9d73c834100>\u001b[0m in \u001b[0;36m<module>\u001b[0;34m()\u001b[0m\n\u001b[1;32m    110\u001b[0m \u001b[1;31m#     theta\u001b[0m\u001b[1;33m\u001b[0m\u001b[1;33m\u001b[0m\u001b[0m\n\u001b[1;32m    111\u001b[0m );\n\u001b[0;32m--> 112\u001b[0;31m \u001b[0mtheta\u001b[0m \u001b[1;33m=\u001b[0m \u001b[0mfmin_bfgs\u001b[0m\u001b[1;33m(\u001b[0m\u001b[0mcostFunction\u001b[0m\u001b[1;33m,\u001b[0m \u001b[0mtheta\u001b[0m\u001b[1;33m,\u001b[0m \u001b[0mmaxiter\u001b[0m\u001b[1;33m=\u001b[0m\u001b[1;36m10\u001b[0m\u001b[1;33m,\u001b[0m \u001b[0margs\u001b[0m\u001b[1;33m=\u001b[0m\u001b[1;33m(\u001b[0m\u001b[0mX\u001b[0m\u001b[1;33m,\u001b[0m \u001b[0my\u001b[0m\u001b[1;33m,\u001b[0m \u001b[1;36m1\u001b[0m\u001b[1;33m)\u001b[0m\u001b[1;33m,\u001b[0m \u001b[0mfprime\u001b[0m\u001b[1;33m=\u001b[0m\u001b[0mgradFunction\u001b[0m\u001b[1;33m)\u001b[0m\u001b[1;33m\u001b[0m\u001b[0m\n\u001b[0m\u001b[1;32m    113\u001b[0m \u001b[0mtheta\u001b[0m\u001b[1;33m\u001b[0m\u001b[0m\n",
      "\u001b[0;32mC:\\ProgramData\\Anaconda3\\lib\\site-packages\\scipy\\optimize\\optimize.py\u001b[0m in \u001b[0;36mfmin_bfgs\u001b[0;34m(f, x0, fprime, args, gtol, norm, epsilon, maxiter, full_output, disp, retall, callback)\u001b[0m\n\u001b[1;32m    857\u001b[0m             'return_all': retall}\n\u001b[1;32m    858\u001b[0m \u001b[1;33m\u001b[0m\u001b[0m\n\u001b[0;32m--> 859\u001b[0;31m     \u001b[0mres\u001b[0m \u001b[1;33m=\u001b[0m \u001b[0m_minimize_bfgs\u001b[0m\u001b[1;33m(\u001b[0m\u001b[0mf\u001b[0m\u001b[1;33m,\u001b[0m \u001b[0mx0\u001b[0m\u001b[1;33m,\u001b[0m \u001b[0margs\u001b[0m\u001b[1;33m,\u001b[0m \u001b[0mfprime\u001b[0m\u001b[1;33m,\u001b[0m \u001b[0mcallback\u001b[0m\u001b[1;33m=\u001b[0m\u001b[0mcallback\u001b[0m\u001b[1;33m,\u001b[0m \u001b[1;33m**\u001b[0m\u001b[0mopts\u001b[0m\u001b[1;33m)\u001b[0m\u001b[1;33m\u001b[0m\u001b[0m\n\u001b[0m\u001b[1;32m    860\u001b[0m \u001b[1;33m\u001b[0m\u001b[0m\n\u001b[1;32m    861\u001b[0m     \u001b[1;32mif\u001b[0m \u001b[0mfull_output\u001b[0m\u001b[1;33m:\u001b[0m\u001b[1;33m\u001b[0m\u001b[0m\n",
      "\u001b[0;32mC:\\ProgramData\\Anaconda3\\lib\\site-packages\\scipy\\optimize\\optimize.py\u001b[0m in \u001b[0;36m_minimize_bfgs\u001b[0;34m(fun, x0, args, jac, callback, gtol, norm, eps, maxiter, disp, return_all, **unknown_options)\u001b[0m\n\u001b[1;32m    918\u001b[0m \u001b[1;33m\u001b[0m\u001b[0m\n\u001b[1;32m    919\u001b[0m     \u001b[1;31m# Sets the initial step guess to dx ~ 1\u001b[0m\u001b[1;33m\u001b[0m\u001b[1;33m\u001b[0m\u001b[0m\n\u001b[0;32m--> 920\u001b[0;31m     \u001b[0mold_fval\u001b[0m \u001b[1;33m=\u001b[0m \u001b[0mf\u001b[0m\u001b[1;33m(\u001b[0m\u001b[0mx0\u001b[0m\u001b[1;33m)\u001b[0m\u001b[1;33m\u001b[0m\u001b[0m\n\u001b[0m\u001b[1;32m    921\u001b[0m     \u001b[0mold_old_fval\u001b[0m \u001b[1;33m=\u001b[0m \u001b[0mold_fval\u001b[0m \u001b[1;33m+\u001b[0m \u001b[0mnp\u001b[0m\u001b[1;33m.\u001b[0m\u001b[0mlinalg\u001b[0m\u001b[1;33m.\u001b[0m\u001b[0mnorm\u001b[0m\u001b[1;33m(\u001b[0m\u001b[0mgfk\u001b[0m\u001b[1;33m)\u001b[0m \u001b[1;33m/\u001b[0m \u001b[1;36m2\u001b[0m\u001b[1;33m\u001b[0m\u001b[0m\n\u001b[1;32m    922\u001b[0m \u001b[1;33m\u001b[0m\u001b[0m\n",
      "\u001b[0;32mC:\\ProgramData\\Anaconda3\\lib\\site-packages\\scipy\\optimize\\optimize.py\u001b[0m in \u001b[0;36mfunction_wrapper\u001b[0;34m(*wrapper_args)\u001b[0m\n\u001b[1;32m    290\u001b[0m     \u001b[1;32mdef\u001b[0m \u001b[0mfunction_wrapper\u001b[0m\u001b[1;33m(\u001b[0m\u001b[1;33m*\u001b[0m\u001b[0mwrapper_args\u001b[0m\u001b[1;33m)\u001b[0m\u001b[1;33m:\u001b[0m\u001b[1;33m\u001b[0m\u001b[0m\n\u001b[1;32m    291\u001b[0m         \u001b[0mncalls\u001b[0m\u001b[1;33m[\u001b[0m\u001b[1;36m0\u001b[0m\u001b[1;33m]\u001b[0m \u001b[1;33m+=\u001b[0m \u001b[1;36m1\u001b[0m\u001b[1;33m\u001b[0m\u001b[0m\n\u001b[0;32m--> 292\u001b[0;31m         \u001b[1;32mreturn\u001b[0m \u001b[0mfunction\u001b[0m\u001b[1;33m(\u001b[0m\u001b[1;33m*\u001b[0m\u001b[1;33m(\u001b[0m\u001b[0mwrapper_args\u001b[0m \u001b[1;33m+\u001b[0m \u001b[0margs\u001b[0m\u001b[1;33m)\u001b[0m\u001b[1;33m)\u001b[0m\u001b[1;33m\u001b[0m\u001b[0m\n\u001b[0m\u001b[1;32m    293\u001b[0m \u001b[1;33m\u001b[0m\u001b[0m\n\u001b[1;32m    294\u001b[0m     \u001b[1;32mreturn\u001b[0m \u001b[0mncalls\u001b[0m\u001b[1;33m,\u001b[0m \u001b[0mfunction_wrapper\u001b[0m\u001b[1;33m\u001b[0m\u001b[0m\n",
      "\u001b[0;32m<ipython-input-89-d9d73c834100>\u001b[0m in \u001b[0;36mcostFunction\u001b[0;34m(theta, X, y, lam)\u001b[0m\n\u001b[1;32m     47\u001b[0m                             \u001b[1;33m(\u001b[0m\u001b[1;33m-\u001b[0m\u001b[1;36m1\u001b[0m\u001b[1;33m*\u001b[0m\u001b[0my\u001b[0m\u001b[1;33m)\u001b[0m\u001b[1;33m\u001b[0m\u001b[0m\n\u001b[1;32m     48\u001b[0m                             * np.log(\n\u001b[0;32m---> 49\u001b[0;31m                                     \u001b[0msigmoid\u001b[0m\u001b[1;33m(\u001b[0m\u001b[0mX\u001b[0m\u001b[1;33m*\u001b[0m\u001b[0mtheta\u001b[0m\u001b[1;33m)\u001b[0m\u001b[1;33m\u001b[0m\u001b[0m\n\u001b[0m\u001b[1;32m     50\u001b[0m                             )\n\u001b[1;32m     51\u001b[0m                         )\n",
      "\u001b[0;32mC:\\ProgramData\\Anaconda3\\lib\\site-packages\\numpy\\matrixlib\\defmatrix.py\u001b[0m in \u001b[0;36m__mul__\u001b[0;34m(self, other)\u001b[0m\n\u001b[1;32m    341\u001b[0m         \u001b[1;32mif\u001b[0m \u001b[0misinstance\u001b[0m\u001b[1;33m(\u001b[0m\u001b[0mother\u001b[0m\u001b[1;33m,\u001b[0m \u001b[1;33m(\u001b[0m\u001b[0mN\u001b[0m\u001b[1;33m.\u001b[0m\u001b[0mndarray\u001b[0m\u001b[1;33m,\u001b[0m \u001b[0mlist\u001b[0m\u001b[1;33m,\u001b[0m \u001b[0mtuple\u001b[0m\u001b[1;33m)\u001b[0m\u001b[1;33m)\u001b[0m \u001b[1;33m:\u001b[0m\u001b[1;33m\u001b[0m\u001b[0m\n\u001b[1;32m    342\u001b[0m             \u001b[1;31m# This promotes 1-D vectors to row vectors\u001b[0m\u001b[1;33m\u001b[0m\u001b[1;33m\u001b[0m\u001b[0m\n\u001b[0;32m--> 343\u001b[0;31m             \u001b[1;32mreturn\u001b[0m \u001b[0mN\u001b[0m\u001b[1;33m.\u001b[0m\u001b[0mdot\u001b[0m\u001b[1;33m(\u001b[0m\u001b[0mself\u001b[0m\u001b[1;33m,\u001b[0m \u001b[0masmatrix\u001b[0m\u001b[1;33m(\u001b[0m\u001b[0mother\u001b[0m\u001b[1;33m)\u001b[0m\u001b[1;33m)\u001b[0m\u001b[1;33m\u001b[0m\u001b[0m\n\u001b[0m\u001b[1;32m    344\u001b[0m         \u001b[1;32mif\u001b[0m \u001b[0misscalar\u001b[0m\u001b[1;33m(\u001b[0m\u001b[0mother\u001b[0m\u001b[1;33m)\u001b[0m \u001b[1;32mor\u001b[0m \u001b[1;32mnot\u001b[0m \u001b[0mhasattr\u001b[0m\u001b[1;33m(\u001b[0m\u001b[0mother\u001b[0m\u001b[1;33m,\u001b[0m \u001b[1;34m'__rmul__'\u001b[0m\u001b[1;33m)\u001b[0m \u001b[1;33m:\u001b[0m\u001b[1;33m\u001b[0m\u001b[0m\n\u001b[1;32m    345\u001b[0m             \u001b[1;32mreturn\u001b[0m \u001b[0mN\u001b[0m\u001b[1;33m.\u001b[0m\u001b[0mdot\u001b[0m\u001b[1;33m(\u001b[0m\u001b[0mself\u001b[0m\u001b[1;33m,\u001b[0m \u001b[0mother\u001b[0m\u001b[1;33m)\u001b[0m\u001b[1;33m\u001b[0m\u001b[0m\n",
      "\u001b[0;31mValueError\u001b[0m: shapes (1,2) and (1,2) not aligned: 2 (dim 1) != 1 (dim 0)"
     ]
    }
   ],
   "source": [
    "import numpy as np;\n",
    "import pandas as pd;\n",
    "from scipy.optimize import fmin_bfgs;\n",
    "\n",
    "trainingDf= pd.read_csv(\"C:/Dinesh/kaggle/titanic/train.csv\", index_col=0, parse_dates=True, nrows = 20);\n",
    "# trainingDf= pd.read_csv(\"D:/datasets/titanic-kaggle/train.csv\", index_col=0, parse_dates=True, nrows = 20);\n",
    "\n",
    "listRowsToColumns=[\"Sex\", \"Embarked\"];\n",
    "listRowsToBoolean=[\"Cabin\"];\n",
    "listNonFeatures = [\"Name\", \"Ticket\"];\n",
    "\n",
    "def generateBooleanColumns(df, columns):\n",
    "    for column in columns:\n",
    "            df[column] = -1 * df[column].isnull() + 1\n",
    "    return df;\n",
    "\n",
    "def generateValueColumns(df, columns):\n",
    "    for column in columns:\n",
    "        df = pd.concat([df.drop(column, axis=1), df[column].str.get_dummies()], axis = 1);\n",
    "    return df;\n",
    "\n",
    "def removeNonFeatures(df, columns):\n",
    "    for column in columns:\n",
    "        df = df.drop(column, axis = 1);\n",
    "    return df;\n",
    "    \n",
    "def dataTransform(df, listRowstoColumns, listRowsToBoolean, listNonFeatures):\n",
    "    df1 = generateBooleanColumns(df, listRowsToBoolean);\n",
    "    df2 = removeNonFeatures(df, listNonFeatures);\n",
    "    return generateValueColumns(df2, listRowstoColumns);\n",
    "\n",
    "\n",
    "def costFunction(theta, X, y, lam):\n",
    "  \n",
    "    m = X.shape[0];\n",
    "    n = X.shape[1];\n",
    "    print(\n",
    "        X.shape,\n",
    "        theta.shape\n",
    "    );\n",
    "    J = (\n",
    "            (\n",
    "                1/m\n",
    "            ) \n",
    "            * np.sum( \n",
    "                        (\n",
    "                            (-1*y) \n",
    "                            * np.log(\n",
    "                                    sigmoid(X*theta)\n",
    "                            )\n",
    "                        )\n",
    "                        - (\n",
    "                            np.subtract(1, y) \n",
    "                            * np.log(\n",
    "                                1-sigmoid(X*theta)\n",
    "                            )\n",
    "                        ) \n",
    "            )  \n",
    "    ) + \\\n",
    "        ( (lam/m) * sum(np.square(np.vstack([0, theta[1:]]))) )\n",
    "    grad = ( (1/m) * (np.transpose(X) * (sigmoid(X*theta) - y)) ) + \\\n",
    "        ( (lam/m) * np.vstack([0, theta[1:]]) );\n",
    "    return J[0][0]#, grad;\n",
    "def gradFunction(theta, X, y, lam):\n",
    "    m = X.shape[0];\n",
    "    n = X.shape[1];\n",
    "    theta = np.matrix('1;1')\n",
    "#     print(\n",
    "#         \"in grad function\",\n",
    "#         X.shape\n",
    "#         , theta.shape\n",
    "#     );\n",
    "    \n",
    "    grad = ( (1/m) * (\n",
    "#             np.transpose(X) * \n",
    "        (\n",
    "            sigmoid(X*theta) \n",
    "#             - y\n",
    "        )\n",
    "    ) ) + \\\n",
    "        ( (lam/m) * np.vstack([0, theta[1:]]) );\n",
    "    return grad;\n",
    "    \n",
    "\n",
    "def sigmoid(z):\n",
    "    return 1 / (1 + np.exp(-1 * z));\n",
    "    \n",
    "def logisticRegression(X, theta):\n",
    "    return round(sigmoid(X*theta));\n",
    "\n",
    "trainingDf = dataTransform(trainingDf, listRowsToColumns, listRowsToBoolean, listNonFeatures);   \n",
    "trainingDf = trainingDf.fillna(trainingDf.mean())\n",
    "X = trainingDf.ix[:, trainingDf.columns != 'Survived'].values;\n",
    "y = trainingDf[\"Survived\"].values\n",
    "\n",
    "# predictions = sigmoid(X*theta);\n",
    "X = np.matrix('1 1');\n",
    "# print(X.shape)\n",
    "theta = np.matrix('1; 1');\n",
    "# print(theta.shape)\n",
    "lam = 0;\n",
    "y = np.matrix('3');\n",
    "# print(y.shape)\n",
    "# print(sigmoid(X * theta))\n",
    "\n",
    "#J, grad = costFunction(theta, X, y, 1);\n",
    "print (\n",
    "   # grad.flatten().tolist()[0],\n",
    "    #J,\n",
    "  #  grad\n",
    "#     theta\n",
    ");\n",
    "theta = fmin_bfgs(costFunction, theta, maxiter=10, args=(X, y, 1), fprime=gradFunction)\n",
    "theta\n"
   ]
  },
  {
   "cell_type": "code",
   "execution_count": 5,
   "metadata": {
    "collapsed": false
   },
   "outputs": [
    {
     "name": "stdout",
     "output_type": "stream",
     "text": [
      "18\n"
     ]
    }
   ],
   "source": [
    "def A(x):\n",
    "    return x + 3;\n",
    "def B(x):\n",
    "    return x + 6;\n",
    "def C(x):\n",
    "    return x + 9;\n",
    "print(\n",
    "    A(B(C(0)))\n",
    ");"
   ]
  },
  {
   "cell_type": "code",
   "execution_count": 111,
   "metadata": {
    "collapsed": false
   },
   "outputs": [
    {
     "data": {
      "text/plain": [
       "matrix([[ 0.73105858],\n",
       "        [ 0.88079708],\n",
       "        [ 0.95257413]])"
      ]
     },
     "execution_count": 111,
     "metadata": {},
     "output_type": "execute_result"
    }
   ],
   "source": [
    "A = np.matrix('1 2 3; 3 4 3');\n",
    "def test(A):\n",
    "    return [A, A.shape[0]];\n",
    "b = np.matrix('1;2;3')\n",
    "c= np.matrix([123])\n",
    "c\n",
    "b\n",
    "np.vstack([0, b[1:]])\n",
    "np.subtract(1, b)\n",
    "1/ (1 +np.exp(-1 * b))\n",
    "# print ( 1, 'test')\n",
    "# b[1:]\n"
   ]
  },
  {
   "cell_type": "code",
   "execution_count": 83,
   "metadata": {
    "collapsed": false
   },
   "outputs": [
    {
     "name": "stdout",
     "output_type": "stream",
     "text": [
      "(1, 2) (2, 1)\n"
     ]
    },
    {
     "data": {
      "text/plain": [
       "matrix([[2]])"
      ]
     },
     "execution_count": 83,
     "metadata": {},
     "output_type": "execute_result"
    }
   ],
   "source": [
    "X = np.matrix(\"1 1\");\n",
    "theta = np.matrix(\"1; 1\");\n",
    "print(\n",
    "X.shape,\n",
    "theta.shape)\n",
    "X* theta\n"
   ]
  }
 ],
 "metadata": {
  "kernelspec": {
   "display_name": "Python 3",
   "language": "python",
   "name": "python3"
  },
  "language_info": {
   "codemirror_mode": {
    "name": "ipython",
    "version": 3
   },
   "file_extension": ".py",
   "mimetype": "text/x-python",
   "name": "python",
   "nbconvert_exporter": "python",
   "pygments_lexer": "ipython3",
   "version": "3.6.0"
  }
 },
 "nbformat": 4,
 "nbformat_minor": 2
}
