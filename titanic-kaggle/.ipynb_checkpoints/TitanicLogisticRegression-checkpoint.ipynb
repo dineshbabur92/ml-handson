{
 "cells": [
  {
   "cell_type": "code",
   "execution_count": 55,
   "metadata": {
    "collapsed": false
   },
   "outputs": [
    {
     "ename": "SyntaxError",
     "evalue": "invalid syntax (<ipython-input-55-0b24fff8dc3d>, line 34)",
     "output_type": "error",
     "traceback": [
      "\u001b[0;36m  File \u001b[0;32m\"<ipython-input-55-0b24fff8dc3d>\"\u001b[0;36m, line \u001b[0;32m34\u001b[0m\n\u001b[0;31m    def logisticRegression(X, theta)\"\"\u001b[0m\n\u001b[0m                                     ^\u001b[0m\n\u001b[0;31mSyntaxError\u001b[0m\u001b[0;31m:\u001b[0m invalid syntax\n"
     ]
    }
   ],
   "source": [
    "import numpy as np;\n",
    "import pandas as pd;\n",
    "\n",
    "trainingDf= pd.read_csv(\"C:/Dinesh/kaggle/titanic/train.csv\", index_col=0, parse_dates=True, nrows = 20);\n",
    "\n",
    "listRowsToColumns=[\"Sex\", \"Embarked\"];\n",
    "listRowsToBoolean=[\"Cabin\"];\n",
    "listNonFeatures = [\"Name\", \"Ticket\"];\n",
    "\n",
    "def generateBooleanColumns(df, columns):\n",
    "    for column in columns:\n",
    "            df[column] = -1 * df[column].isnull() + 1\n",
    "    return df;\n",
    "\n",
    "def generateValueColumns(df, columns):\n",
    "    for column in columns:\n",
    "        df = pd.concat([df.drop(column, axis=1), df[column].str.get_dummies()], axis = 1);\n",
    "    return df;\n",
    "\n",
    "def removeNonFeatures(df, columns):\n",
    "    for column in columns:\n",
    "        df = df.drop(column, axis = 1);\n",
    "    return df;\n",
    "    \n",
    "def dataTransform(df, listRowstoColumns, listRowsToBoolean, listNonFeatures):\n",
    "    df1 = generateBooleanColumns(df, listRowsToBoolean);\n",
    "    df2 = removeNonFeatures(df, listNonFeatures);\n",
    "    return generateValueColumns(df2, listRowstoColumns);\n",
    "\n",
    "\n",
    "def costFunction(X, theta):\n",
    "    J = sigmoid(X*theta)\n",
    "\n",
    "def logisticRegression(X, theta):\n",
    "    return round(sigmoid(X*theta))\n",
    "trainingDf = dataTransform(trainingDf, listRowstoColumns, listRowsToBoolean, listNonFeatures);   \n",
    "trainingDf = trainingDf.fillna(trainingDf.mean())\n",
    "X = trainingDf.ix[:, trainingDf.columns != 'Survived'].values;\n",
    "y = trainingDf[\"Survived\"].values\n",
    "\n",
    "predictions = logisticRegression(X, theta)\n"
   ]
  },
  {
   "cell_type": "code",
   "execution_count": 70,
   "metadata": {
    "collapsed": false
   },
   "outputs": [
    {
     "name": "stdout",
     "output_type": "stream",
     "text": [
      "18\n"
     ]
    }
   ],
   "source": [
    "def A(x):\n",
    "    return x + 3;\n",
    "def B(x):\n",
    "    return x + 6;\n",
    "def C(x):\n",
    "    return x + 9;\n",
    "print(\n",
    "    A(B(C(0)))\n",
    ");"
   ]
  },
  {
   "cell_type": "raw",
   "metadata": {},
   "source": []
  }
 ],
 "metadata": {
  "kernelspec": {
   "display_name": "Python 3",
   "language": "python",
   "name": "python3"
  },
  "language_info": {
   "codemirror_mode": {
    "name": "ipython",
    "version": 3
   },
   "file_extension": ".py",
   "mimetype": "text/x-python",
   "name": "python",
   "nbconvert_exporter": "python",
   "pygments_lexer": "ipython3",
   "version": "3.6.0"
  }
 },
 "nbformat": 4,
 "nbformat_minor": 2
}
