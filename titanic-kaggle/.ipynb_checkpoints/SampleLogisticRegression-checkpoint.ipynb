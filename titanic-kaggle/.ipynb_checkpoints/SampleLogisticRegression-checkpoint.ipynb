{
 "cells": [
  {
   "cell_type": "code",
   "execution_count": 11,
   "metadata": {
    "collapsed": false
   },
   "outputs": [
    {
     "name": "stdout",
     "output_type": "stream",
     "text": [
      "Optimization terminated successfully.\n",
      "         Current function value: 0.693147\n",
      "         Iterations: 0\n",
      "         Function evaluations: 1\n",
      "         Gradient evaluations: 1\n"
     ]
    },
    {
     "data": {
      "text/plain": [
       "matrix([[ 0.5],\n",
       "        [ 0.5],\n",
       "        [ 0.5],\n",
       "        [ 0.5]])"
      ]
     },
     "execution_count": 11,
     "metadata": {},
     "output_type": "execute_result"
    }
   ],
   "source": [
    "import sys;\n",
    "sys.path.insert(0,'C:\\Dinesh\\Projects\\Learning\\ml-handson\\lib');\n",
    "\n",
    "from Transform import GenTransform;\n",
    "from Regression import LogisticRegression;\n",
    "\n",
    "import numpy as np;\n",
    "import pandas as pd;\n",
    "import traceback;\n",
    "\n",
    "sampleX = np.matrix('1 2; 3 4; 5 6; 7 8');\n",
    "sampleY = np.matrix('1;0;0;1')\n",
    "lgTest = LogisticRegression(sampleX, sampleY, 1);\n",
    "try:\n",
    "    opTheta, fminOutput = lgTest.buildModel();\n",
    "except(e):\n",
    "    print(e);\n",
    "predictionsY = LogisticRegression.sigmoid(LogisticRegression.addIntercept(sampleX) * opTheta);\n",
    "predictionsY"
   ]
  }
 ],
 "metadata": {
  "kernelspec": {
   "display_name": "Python 3",
   "language": "python",
   "name": "python3"
  },
  "language_info": {
   "codemirror_mode": {
    "name": "ipython",
    "version": 3
   },
   "file_extension": ".py",
   "mimetype": "text/x-python",
   "name": "python",
   "nbconvert_exporter": "python",
   "pygments_lexer": "ipython3",
   "version": "3.6.0"
  }
 },
 "nbformat": 4,
 "nbformat_minor": 2
}
